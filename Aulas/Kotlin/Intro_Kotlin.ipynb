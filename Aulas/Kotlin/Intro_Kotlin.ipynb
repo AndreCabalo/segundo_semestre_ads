{
 "cells": [
  {
   "cell_type": "markdown",
   "metadata": {},
   "source": [
    "# Introdução ao Kotlin\n",
    "\n",
    "## Trilha Android\n",
    "\n",
    "- Inicio do desenvolvimento em 2011 pela JetBrains\n",
    "\n",
    "- Nova linguagem do Android desde 2017\n",
    "\n",
    "- Linguagem Open Sourcer - Apache 2\n",
    "\n",
    "- Vantagens caracteristicas do Kotlin:\n",
    "\n",
    "    - Capacidade de tipar a variavel, sem definir na criação - Tipagem Dinamica/Inferencia \n",
    "\n",
    "    - Considerada type-safe, como Java e tmábem null-safe, ou seja caso necessite que uma variável receba o valor nulo, terá de diniri isso de forma explícita, resumindo segurança do Nulos, dificilmente caira no NullPointerException\n",
    " \n",
    "    - Temos tipagem Nula\n",
    "\n",
    "    - Compatível com Java, podendo usar classes que tinhamos em Java, bem como APIS e bibliotecas Java\n",
    "\n",
    "    - Otima curva de aprendizagem, linguagem fácil de se aprender e trabalhar\n",
    "\n",
    "    - Possuem desempenho equivalente a aplicativos desenvolvidos em Java\n",
    "\n",
    "    - Utiliza type casts que asseguram o desenvolvedor nas diferentes conversão e conversões entre tipos\n",
    "\n",
    "# Porque desenvolver para Android com Kotlin?\n",
    "\n",
    "Além de não apresentar restrições em relação ao Java temos as seguintes características:\n",
    "\n",
    "- Compatibilidade, com a JDK. Além de oferecer suporte legado para vesões anteriores do Android.\n",
    "\n",
    "- Desempenho, gerando bytecodes\n",
    "\n",
    "- Curva de aprendizado favorável a desenvolvedores de outras linguagens de programação \n"
   ]
  },
  {
   "cell_type": "markdown",
   "metadata": {},
   "source": [
    "# REPL (READ-EVAL-PRINT LOOP)\n",
    "\n",
    "## Ambientes de desenvolvimento\n",
    "\n",
    "\n",
    "Precisaremos de:\n",
    "\n",
    "- JDK do Java, baixar e instalar\n",
    "\n",
    "- IDE Local com o IntelliJ IDEA Community Edition em https://www.jetbrains.com/idea/download/?section=windows\n",
    "\n",
    "ou \n",
    "\n",
    "- IDE Web como o Kotlin Playground em https://play.kotlinlang.org/\n",
    "\n",
    "    Observe que o KotlinPlayground ja disponibiliza a estrutura padrão :\n",
    "\n",
    "    <b> fun main() {      \n",
    "        println(\"Hello World\")        \n",
    "    }\n",
    "    </b>\n",
    "\n"
   ]
  },
  {
   "cell_type": "markdown",
   "metadata": {},
   "source": [
    "# Arquivos Kotlin .kt\n",
    "\n",
    "- Os arquivos Kotlin, possuem o padrão de extensão .kt"
   ]
  },
  {
   "cell_type": "markdown",
   "metadata": {},
   "source": [
    "# Comentários\n",
    "\n",
    "- Os comentários são pequenas anotações para nos lembrarmos e para informar outros devs sobre a regra ou algoritmos\n",
    "\n",
    "## Comentário em uma unica linha \n",
    "- Para comentar em Kotlin, usamos duas barras (//) fazemos da seguinte maneira:\n",
    "\n",
    "<p style=\"color:gray\">\n",
    "//    Lembrete ou comentário qualquer\n",
    "</p>\n",
    "\n",
    "- Podemos tambem usar o atalho:\n",
    "\n",
    " <p style=\"color:gray\">ctrl + /</p>\n",
    "\n",
    " ## Descomentar\n",
    "\n",
    " - O mesmo serve para descomentar, podemos tirar as duas barras ou <p>ctrl + /</p> novamente\n",
    "\n",
    "## Comentar ou descomentar conjunto de linhas\n",
    "\n",
    " - Podemos ainda comentar um conjunto de linhas com <p style=\"color:gray\">/* conteudo */</p> ou <p style=\"color:gray\">selecionar as linhas + ctrl + / </p>"
   ]
  },
  {
   "cell_type": "markdown",
   "metadata": {},
   "source": [
    "# Variáveis - Var\n",
    "\n",
    "- Usamos o nome <i style=\"color:green\"> var </i> ao criar uma variável, apos isso não é preciso utilizar o \"var\" para menciona-la  e sim seu nome atribuido.\n",
    "\n",
    "- Para manipular dados, precisaremos utilizar variaveis, ou seja precisamos armazenar dados na memoria, utilizando variavel, para isso é simples, basta usar a palavra reservada <i style=\"color:green\"> var </i> da seguinte maneira:\n",
    "\n",
    "<p style=\"color:gray\">var nomeVariavel = \"FIAP\" </p>\n",
    "\n",
    "\n",
    "# Sobrescrevendo atribuição da variavel\n",
    "\n",
    "- Para sobreescrever também é simples, basta citar novamente a variavel, sem o \"var\" e atribuir um novo valor da seguinte maneira:\n",
    "\n",
    "<p style=\"color:gray\"> nomeVariavel = \"Fiap On\"</p>"
   ]
  },
  {
   "cell_type": "markdown",
   "metadata": {},
   "source": [
    "# Tipos \n",
    "\n",
    "O Kotlin define o tipo dinamicante, de acordo com o valor atribuido, ou seja se atribuimos um valor string, não podemos alterar o valor desta variavel.\n",
    "\n",
    "Temos diversos tipos de dados, entre eles:\n",
    "\n",
    "- String\n",
    "\n",
    "- Int\n",
    "\n",
    "- Byte\n",
    "\n",
    "- Float e entre outros\n",
    "\n",
    "\n",
    "# Variaveis - var\n",
    "\n",
    "- São a forma como armazenamos dados na memoria, são dados variávies, ou seja, podemo mudar.\n",
    "\n",
    "## Declaração explicita do tipo \n",
    "\n",
    "- Para resolver o problema de não poder alterar o tipo da variável, podemos declarar explicitamente qual é o tipo da variavel que queremos construir, portanto podemos declarar o tipo da variável explicitamente seguindo a sintaxe :<i style=\"color:green\"> var nomeVariavel: Tipo = valor </i>\n",
    "\n",
    "Exemplo:\n",
    "\n",
    "<p style=\"color:gray\"> var idade: Byte = 19</p>\n",
    "\n"
   ]
  },
  {
   "cell_type": "markdown",
   "metadata": {},
   "source": [
    "# Constantes - val\n",
    "\n",
    "- Diferente da variável, este não varia seu valor, um exmeplo seria o valor de pi, no qual não muda, sempre é 3.14...\n",
    "\n",
    "- Além disso temos uma outra palavra reservada para sua declaração <i style=\"color:green\"> val</i>\n",
    "\n",
    "- Para declarar um constante é bem similar a declarar uma variável, seguimos a sintaxe <i style=\"color:green\"> val nomeConstante: Tipo = valor </i>\n",
    "\n",
    "Exemplo:\n",
    "\n",
    "<p style=\"color:gray\"> val pi: Float = 3.14</p>\n",
    "\n",
    "*É recomendado que você sempre crie os valores com constante, para que não mude sem querer o valor de uma, caso tente mudar será notificado, ai então você decide*\n"
   ]
  },
  {
   "cell_type": "markdown",
   "metadata": {},
   "source": [
    "# Voltando as variáveis númeras\n",
    "\n",
    "- Em Kotlin, temos diversos tipos números, entre eles:\n",
    "\n",
    "| Tipo   | Tamanho em bits | Descrição              | Tamanho caracteres (2^bits)       | Intervalo usável|\n",
    "|--------|------------------|------------------------|------------------------------------|-------------------------------|\n",
    "| Long   | 64               | Não possui casa decimal| 18.446.744.073.709.551.616        | de -9.223.372.036.854.775.808 até  +9.223.372.036.854.775.807  |\n",
    "| Int    | 32               | Não possui casa decimal| 4.294.967.296                      | de -2.147.483.648  +2.147.483.647                |\n",
    "| Short  | 16               | Não possui casa decimal| 65.536                             | de -32.768 até +32.767                       |\n",
    "| Byte   | 8                | Não possui casa decimal| 256                                | de -128 até +127                         |\n",
    "| Double | 64               | Ponto Flutuante        | 1.8446744073709551616 × 10^19      | ....muito |\n",
    "| Float  | 32               | Ponto Flutuante        | 3.4028235 × 10^38                  | ....muito |\n",
    "\n",
    "\n",
    "* Lembrando que queremos econômizar espaço e utilizar o hardware, por tanto define os tipos de acordo com a necessidade*\n",
    "Para sabermos qual o tipo maximo e minimo de um tipo, existem algumas constantes para dar essa informação entre elas o <b style=\"color:springgreen\">Tipo.MINVALUE </b> e o <b style=\"color:springgreen\">Tipo.MAXVALUE </b>:\n",
    "\n",
    "<b style=\"color:gray\">    println(Byte.MAX_VALUE)\n",
    "\n",
    "println(Byte.MIN_VALUE)</b>\n"
   ]
  },
  {
   "cell_type": "markdown",
   "metadata": {},
   "source": [
    "# Imprimindo \n",
    "\n",
    "- Temos dois tipos de impressão o println e o print e a diferença entre é:\n",
    "\n",
    "    - <b style=\"color:red\">PrintLn()</b> - Pula automatícamente a linha apos a impressão\n",
    "\n",
    "    - <b style=\"color:green\">Print()</b> - Nãoautomatícamente a linha apos a impressão"
   ]
  },
  {
   "cell_type": "markdown",
   "metadata": {},
   "source": [
    "# String \"texto\"\n",
    "\n",
    "- São tipos texto, ou seja um cadeia de caracteres, uma lista de caracteres\n",
    "\n",
    "- Sempre que utilizarmos aspas \"string\", significa que estamos falando de uma String\n",
    "\n",
    "## Descobrindo tamanho da String\n",
    "\n",
    "- Para isso é simples, usamos o comando <b style=\"color:green\">.length </b> da seguinte maneira:\n",
    "\n",
    "<b style=\"color:gray\">print(variavel.length)</b>\n",
    "\n",
    "- Com isso o Kotlin nos retorna o tamanho desta String ou seja quando caracteres ela tem\n",
    "\n",
    "- *Lembrando que a contagem começa com 1 e não 0*\n",
    "\n",
    "## Concatenação de String\n",
    "\n",
    "- Podemos jutnar um String com uma variável de maneira bem simples com $Variavel:\n",
    "\n",
    "<b style=\"color:gray\">print(\"O nome do aluno é: $nomeAluno\")</b>\n",
    "\n",
    "- ou com + :\n",
    "\n",
    "<b style=\"color:gray\">print(\"O nome do aluno é:\" + nomeAluno)</b>\n",
    "\n",
    "\n",
    "## Tipos de texto\n",
    "\n",
    "- Podemos guarda textos em string, mas e se quisermos guardar apenas letras?\n",
    "\n",
    "### Char - 'x'\n",
    "\n",
    "- Podemos o famoso <b style=\"color:red\">Char</b>, no qual reserva um espaço pequeno na memoria, quando comparado ao String\n",
    "\n",
    "- Para isso é bem simples, basta utilizar aspas simples na declaração, da seguinte maneira:\n",
    "\n",
    "Exemplo:\n",
    "\n",
    "<b style=\"color:gray\">var letra = 'M'</b>\n",
    "\n",
    "### Pair\n",
    "\n",
    "- Armazena dois valores diferentes em uma única variavel, podendo inclusive serem de tipo diferentes, se liga neste exemplo por <b style=\"color:red\">inferencia</b>:\n",
    "\n",
    "Exemplo:\n",
    "\n",
    "<b style=\"color:gray\">\n",
    "var (codigo, descricao) = Pair(100, \"Mouse\")\n",
    "\n",
    "println(codigo)\n",
    "println(descricao)\n",
    "</b>\n",
    "\n",
    "- Inclusive podemos tipar os tipos de cada um dos itens do Pair da seguinte maneira <b style=\"color:red\">Explicita</b>:\n",
    "\n",
    "Exemplo:\n",
    "\n",
    "<b style=\"color:gray\">\n",
    "var duplinha: Pair<Int, String> = Pair(200,\"Teclado\")\n",
    "\n",
    "println(duplinha)\n",
    "</b>\n",
    "\n",
    "- Existe código retornara o Pair, caso queiramos retornar apenas um ou outro do Pair, podemos usar os comandos <b style=\"color:red\">.first</b> ou <b style=\"color:red\">second</b>\n",
    "\n",
    "Exemplo:\n",
    "\n",
    "<b style=\"color:gray\">\n",
    "var duplinha: Pair<Int, String> = Pair(200,\"Teclado\")\n",
    "\n",
    "println(duplinha.first)\n",
    "</b>\n"
   ]
  },
  {
   "cell_type": "markdown",
   "metadata": {},
   "source": [
    "# Booleanos\n",
    "\n",
    "- São os tipos de dados, simples que ocupam apenas 1bit de memória e apenas aceitam dois estados:\n",
    "\n",
    "    - true\n",
    "    - false\n",
    "\n",
    "- e podem ser declarados da seguinte maneira:\n",
    "\n",
    "    <i style=\"color:gray\">\n",
    "    var isApproved = true\n",
    "\n",
    "    var firstTime: Boolean = false\n",
    "    </i>"
   ]
  },
  {
   "cell_type": "markdown",
   "metadata": {},
   "source": [
    "# Null Safety - Sufixo\"?\"\n",
    "\n",
    "- Em Kotlin temos um recurso que evita bastante que caiamos no erro <i style=\"color:red\">NullPointerException</i> ou NPS para os mais intímos.\n",
    "\n",
    "- A maioria das linguagens não possuem esta função, mas aqui temos!\n",
    "\n",
    "- Se tentarmos exacutar o seguinte código teremos um <i style=\"color:red\">erro</i>:\n",
    "\n",
    "    <i style=\"color:gray\">\n",
    "    fun main() {\n",
    "\n",
    "    var idade: Int\n",
    "\n",
    "    println(idade)\n",
    "\n",
    "    }\n",
    "    </i>\n",
    "\n",
    "- Pois não apontamos que ela seria uma variavel com Null safety, para isso precisamos, fazer da <i style=\"color:green\">maneira correta!</i>, atribuir o valor inicial de nulo, além disso precisamos também adicionar um <i style=\"color:green\">sufixo no tipo</i> da seguinte maneira:\n",
    "\n",
    "    <i style=\"color:gray\">\n",
    "    fun main() {\n",
    "\n",
    "    var idade: Int<b style=\"color:green\">?</b> = null\n",
    "\n",
    "    println(idade)\n",
    "\n",
    "    }\n",
    "    </i>"
   ]
  },
  {
   "cell_type": "markdown",
   "metadata": {},
   "source": [
    "# Coleções Array e List\n",
    "\n",
    "- Com estas coleções podemos guardar uma coleção de dados do mesmo tipo.\n",
    "\n",
    "- Em Kotlin temos Array, List, Set e Maps e aprendemos criar cada uma delas.\n",
    "\n",
    "- Algo importante é que sempre que vc criar uma coleção de um tipo, ela sempre será deste tipo e apenas receberá dados deste tipo.\n",
    "\n",
    "## Array\n",
    "\n",
    "- É um tipo de coleção imutável, onde vc criar e inicializa, e não pode adicionar valores novos neste Array, ou seja não muda seu comprimento\n",
    "\n",
    "- Você pode até alterar os valores do Array, mas não pode incluir valores novos\n",
    "\n",
    "- Lembrando que o Kotlin por inferencia, identifica o tipo do dado se não for feito de maneira explicita\n",
    "\n",
    "- Temos a posição dos indices da lista, onde identifica cada um dos itens da lista\n",
    "\n",
    "- Indice começa sempre com \"0\" Zero !\n",
    "\n",
    "    Por exemplo o array abaixo com 2 posições (0, 1 e 2)\n",
    "\n",
    "    <code>var cidades = arrayOf(\"São Paulo\", \"Rio de Janeiro\", \"Santa Catarina\")</code>\n",
    "\n",
    "### Imprimir item do Array\n",
    "\n",
    "- Para imprimirmos um item específico do Array, precisamos apontar sua posição de indice da seguinte maneira:\n",
    "\n",
    "    <code>println(cidades[1])</code>\n",
    "\n",
    "### Alterando o valor de um item do Array\n",
    "\n",
    "- Para isso basta chamar a variavel com posição e atribuir novo valor, da seguinte maneira:\n",
    "\n",
    "    <code>cidades[1] =\"Curitiba\"</code>\n",
    "\n",
    "### Array com tipo explicito\n",
    "\n",
    "- Para especificar quais tipos de dados entraram no no array, devemos fazer da seguinte maneira, <i style=\"color:green\">var nomeVariavel = arrayOf < Tipo do Dado > (itens..)</i>\n",
    "\n",
    "<code>var cidades = arrayOf < String > (\"item 1\",\"item 2\")</code>\n",
    "\n",
    "- Com isso ele não recebera nenhum outro dado que não seja String\n",
    "\n",
    "### Funções de Array\n",
    "\n",
    "<h4 style=\"color:tomato\">.isEmpty()</h4>\n",
    "\n",
    "Retorna true, se tiver vazia, e retorna false, se tiver algo dentro delas\n",
    "\n",
    "Exemplo:\n",
    "\n",
    "<code>var temCidade = cidades.isEmpty()</code>\n",
    "\n",
    "Retorna:\n",
    "\n",
    "    True\n",
    "\n",
    "<h4 style=\"color:tomato\">Conta quantidade de indices - .size()</h4>\n",
    "\n",
    "Retorna o tamanho do Array em quantidade de indices\n",
    "\n",
    "Exemplo:\n",
    "\n",
    "<code>println(cidades.size)</code>\n",
    "\n",
    "Retorna:\n",
    "\n",
    "    3\n",
    "\n",
    "<h4 style=\"color:tomato\">Conta letras de String - .count()</h4>\n",
    "\n",
    "Retorna quantas letras tem tal item, para isso precisamos apontar não apenas o array, mas sim o array e o indice que desejamos analisar:\n",
    "\n",
    "Exemplo:\n",
    "\n",
    "<code>\n",
    "println(listinhaNomes[0].count())\n",
    "</code>\n",
    "\n",
    "Retorna:\n",
    "\n",
    "    8\n"
   ]
  },
  {
   "cell_type": "markdown",
   "metadata": {},
   "source": [
    "##  Array List\n",
    "\n",
    "- Diferente do Array onde não podemos alterar a quantidade de indices, o List, nos permite alterar isso.\n",
    "\n",
    "- Além disso permite itens repetidos.\n",
    "\n",
    "<h4 style=\"color:tomato\"> Criando um List - ArrayList</h4>\n",
    "\n",
    "- É bem similar a criar um Array:\n",
    "\n",
    "<code> var frutas = ArrayList< String >() </code>\n",
    "\n",
    "<h4 style=\"color:tomato\"> Criando um List de outra forma - ListOf</h4>\n",
    "\n",
    "- Existe uma outra maneira de criar uma list:\n",
    "\n",
    "<code> var frutas = ListOf(\"Banana\",\"Maça\",\"Uva\") </code>\n",
    "\n",
    "\n",
    "<h4 style=\"color:tomato\"> Adicionando elementos na List - .add </h4>\n",
    "\n",
    "- Para adicionar usamos a sintaxe: <i style=\"color:gray\"> nomeList.add(\"ItemQualquer\")</i>\n",
    "\n",
    "<code> frutas.add(\"Banana\")</code>\n",
    "\n",
    "<h4 style=\"color:tomato\"> Pegando comprimento da List </h4>\n",
    "\n",
    "- É Similar ao Array, usamos o size da seguinte maneira:\n",
    "\n",
    "<code>println(frutas.size)</code>\n",
    "\n",
    "<h4 style=\"color:tomato\"> Pesquisa dentro do List - .Contains </h4>\n",
    "\n",
    "- Podemos checkar se dentro de tal lista, existe \"x\" conteudo e o retorno será boolean, true ou false:\n",
    "\n",
    "<code>println(frutas.contains(\"Uva\"))</code>\n",
    "\n",
    "<h4 style=\"color:tomato\"> Remover algum conteúdo da lista - .remove </h4>\n",
    "\n",
    "Além de adicionar, editar, pesquisar, podemos também remover itens da lista da seguinte maneira:\n",
    "\n",
    "<code>frutas.remove(\"Banana\")</code>\n",
    "\n",
    "Caso encontre o item ele remove o item da lista."
   ]
  },
  {
   "cell_type": "markdown",
   "metadata": {},
   "source": [
    "# Set\n",
    "\n",
    "- Uma caracteristica do Set é que ele <i style=\"color:red\">não permite itens repetidos</i>, isso pode ser uma boa quando estamos tratando itens exclusivos.\n",
    "\n",
    "- Set também é uma coleção\n",
    "\n",
    "- Se tentarmos inserir um item repetido, não seremos notificados pelo Kotlin, apenas não adicionará o item repetido.\n",
    "\n",
    "- Ao imprimir um Set, sempre sera exibido em ordem alfabetica\n",
    "\n",
    "\n",
    "<h4 style=\"color:tomato\"> Criando um HashSet </h4>\n",
    "\n",
    "- Para criar uma HashSet a estrutura é bem similar as demais:\n",
    "\n",
    "<code>var filmes = HashSet<String>()</code>\n",
    "\n",
    "<h4 style=\"color:tomato\"> Verificando quantidade indices da HashSet - .size</h4>\n",
    "\n",
    "- Simples e igual as demais do grupo Array:\n",
    "\n",
    "<code>println(filmes.size)</code>\n",
    "\n",
    "<h4 style=\"color:tomato\"> Adicionando itens ao HashSet - .add</h4>\n",
    "\n",
    "- Lembrnado que ao adicionar um item em um Set ja existente, a ordem é rearranjada afim de respeitar a ordem alfabética.\n",
    "\n",
    "- Usamos a estrutura .add:\n",
    "\n",
    "<code>filmes.add(\"FilmeQualquer\")</code>\n",
    "\n",
    "<h4 style=\"color:tomato\"> Buscar item no HashSet - .contains</h4>\n",
    "\n",
    "- Lembrando que o conteúdo buscado, deve estar identico ao digitado.\n",
    "\n",
    "- Similar as outras estrutura, também podemos buscar um item e receber um true ou false, se temos este item:\n",
    "\n",
    "<code>filmes.contains(\"FilmeABuscar\")</code>\n",
    "\n",
    "<h4 style=\"color:tomato\"> Remover item no HashSet - .remove </h4>\n",
    "\n",
    "- O conteúdo removido, deve estar identico ao digitado.\n",
    "\n",
    "<code>filmes.remove(\"FilmeARemover\")</code>\n",
    "\n",
    "<h4 style=\"color:tomato\"> Forma simples de criar um Set - SetOf()</h4>\n",
    "\n",
    "- Existe uma forma mais simples de criar um Set, porém ela tem alguns pontos:\n",
    "\n",
    "    - Não permite inserir indice e valores apos ser declarada\n",
    "\n",
    "    - Ja na outra forma, criamos o set e depois adicionamos os indices e valores, sem restrições\n",
    "\n",
    "- Criar o HashSet, ja passando seus indices e valores:\n",
    "\n",
    "<code>var precos = setOf<Double>(45.9, 78.7, 54.9, 41.9)</code>\n",
    "\n",
    "ou de maneira NÃO Explicita:\n",
    "\n",
    "<code>var precos = setOf(45.9, 78.7, 54.9, 41.9)</code>"
   ]
  },
  {
   "cell_type": "markdown",
   "metadata": {},
   "source": [
    "# Map\n",
    "\n",
    "- Conseguimos criar uma lista com <i style=\"color:blue\">chave:valor</i>, ideal por exemplo para criar um lista de Matricula:Aluno.\n",
    "\n",
    "- Para isso usamos o modelo Pair e podemos também definir o tipo de dado tanto da chave quanto do valor:\n",
    "\n",
    "<h4 style=\"color:tomato\"> Criando um HashMap </h4>\n",
    "\n",
    "<code>var produtos = HashMap<String, Double>()</code>\n",
    "\n",
    "<h4 style=\"color:tomato\"> Adicionando chave e valor um HashMap - .put(chave:valor) </h4>\n",
    "\n",
    "- Diferente dos demais item Array, List, Set, aqui usamos <i style=\"color:springgreen\">.put</i> ao invés de <i style=\"color:red\">.add</i>\n",
    "\n",
    "<code>produtos.put(\"Mouse\", 149.90)</code>\n",
    "\n",
    "<h4 style=\"color:tomato\"> Contar items de HashMap - .size </h4>\n",
    "\n",
    "<code>println(produtos.size)</code>\n",
    "\n",
    "<h4 style=\"color:tomato\"> Remover items de HashMap - .remove(chave) </h4>\n",
    "\n",
    "- Para remover em HashMap, precisamos indicar a chave do produto que queremos remover:\n",
    "\n",
    "<code>produtos.remove(chave)</code>\n",
    "\n",
    "- Cuidados para se ter ao fazer o remove... pode ser possivel, que tenhamos diversos produtos com o nome \"teclado\", caso vc remova a chave teclado, ira remover todos os items que contenham esta chave, para resolver isso, recomendamos que <i style=\"color:springgreen\"> indique .remove(chave,valor)</i> da seguinte maneira:\n",
    "\n",
    "<code>produtos.remove(chave, valor)</code>\n",
    "\n",
    "<h4 style=\"color:tomato\"> Pesquisar chave e receber valor no Map - .get(chave) </h4>\n",
    "\n",
    "- Ao pesquisar um item usando .get, caso seja encontrado o item é retornado o valor desta chave.\n",
    "\n",
    "<code>println(produtos.get(\"chaveQualque\"))</code>\n",
    "\n",
    "\n",
    "\n"
   ]
  },
  {
   "attachments": {
    "image-2.png": {
     "image/png": "[encoded data removed]"
    },
    "image.png": {
     "image/png": "[encoded data removed]"
    }
   },
   "cell_type": "markdown",
   "metadata": {},
   "source": [
    "# Operadores\n",
    "\n",
    "Operadores são praticamente simbolos de operações lógicas, matemática e comparações de dados.\n",
    "\n",
    "Entre eles temos os operadores de atribuição:\n",
    "\n",
    "## Operadores de atribuição\n",
    "\n",
    "|Operador de atribuição| Significado|\n",
    "|----------------------|------------|\n",
    "| = | Atribuição de valor|\n",
    "\n",
    "## Operadores aritméticos\n",
    "\n",
    "|Operadores aritméticos| Significado|\n",
    "|----------------------|------------|\n",
    "| + | Soma|\n",
    "| - | Subtração|\n",
    "| * | Multiplicação|\n",
    "| / | Divisão|\n",
    "| % | Mod , ou seja o resto de uma divisão|\n",
    "\n",
    "\n",
    "## Operadores compostos\n",
    "\n",
    "|Operadores compostos| Significado|\n",
    "|----------------------|------------|\n",
    "| += | Soma ao valor|\n",
    "| -= | Subtrai ao valor|\n",
    "| *= | Multiplica ao valor|\n",
    "| /= | Divide pelo valor|\n",
    "| %= | Resto do valor|\n",
    "| ++ | Incremento|\n",
    "| +- | Decremento|\n",
    "\n",
    "\n",
    "## Operadores lógicos\n",
    "\n",
    "Quando queremos testar mais de um condição OU outra condição.\n",
    "\n",
    "|Operadores lógicos| Significado|\n",
    "|----------------------|------------|\n",
    "| && | condição de \"E\" |\n",
    "| AND | condição de \"E\"|\n",
    "| II| condição de \"OU\"|\n",
    "| OR | condição de \"OU\"|\n",
    "| !| condição de \"DIFERENTE\"|\n",
    "| NOT| condição de \"NEGAÇÃO|\n",
    "\n",
    "Usamos também a tabela verdade para entender o resultado dos operadores lógicos:\n",
    "\n",
    "Em && e AND - Precisamos que as duas condiçõees seja true\n",
    "\n",
    "![image.png](attachment:image.png)\n",
    "\n",
    "Em || e OR - Precisamos que pelo menos umas das duas condiçõees seja true\n",
    "\n",
    "![image-2.png](attachment:image-2.png)\n",
    "\n",
    "\n",
    "## Operadores de comparação \n",
    "\n",
    "Retorna da comparação sempre true ou false.\n",
    "\n",
    "|Operadores de comparação| Significado|\n",
    "|----------------------|------------|\n",
    "| > | Maior que|\n",
    "| < | Menor que|\n",
    "| >= | Maior ou igual a|\n",
    "| <= | Menor ou igual a|\n",
    "| == | Igual |\n",
    "| !=|  Diferente|"
   ]
  },
  {
   "cell_type": "markdown",
   "metadata": {},
   "source": [
    "# Interpolação\n",
    "\n",
    "- Para juntar uma string e um variavel, podemos o sifrão ($) antes do nome da variavel dentro da string, da seguinte maneira:\n"
   ]
  },
  {
   "cell_type": "code",
   "execution_count": null,
   "metadata": {},
   "outputs": [],
   "source": [
    "var comparacao = 2>5\n",
    "\n",
    "println(\"É verdade que 2 >= 5? $comparacao\")"
   ]
  },
  {
   "cell_type": "markdown",
   "metadata": {},
   "source": [
    "- Quando tivermos alguma variavel e ela utiliza algum argumento, precisamos além do simbolo de cifrão ($), precisamos tambem usar chaves, da seguinte maneira:"
   ]
  },
  {
   "cell_type": "code",
   "execution_count": null,
   "metadata": {},
   "outputs": [],
   "source": [
    "var numeros = listOf(1,2,3,4,5,6)\n",
    "\n",
    "if(numeros[0]%2 ==0){\n",
    "    println(\"O numero ${numeros[0]}\")\n",
    "}"
   ]
  },
  {
   "cell_type": "markdown",
   "metadata": {},
   "source": [
    "# Estrutura de decisão\n",
    "\n",
    "\n",
    "- Existem algumas estruturas de decisão, condicionais (if else)  e loops (when, while/do while e for).\n",
    "\n",
    "## if(condição Se)\n",
    "\n",
    "- If cria uma condição, que se aceita, executa um bloco, veja a sintaxe:"
   ]
  },
  {
   "cell_type": "code",
   "execution_count": null,
   "metadata": {},
   "outputs": [],
   "source": [
    "if(condicao){\n",
    "    bloco executado em caso de TRUE\n",
    "}"
   ]
  },
  {
   "cell_type": "markdown",
   "metadata": {},
   "source": [
    "## Else (condição Se não)\n",
    "\n",
    "- Else cria um bloco de execuçaõ casa a condição não seja aceita, sua sintaxe é a seguinte:"
   ]
  },
  {
   "cell_type": "code",
   "execution_count": null,
   "metadata": {},
   "outputs": [],
   "source": [
    "if(condicao){\n",
    "    bloco executado em caso de TRUE\n",
    "}else {\n",
    "    bloco executado em caso de FALSE\n",
    "}"
   ]
  },
  {
   "cell_type": "markdown",
   "metadata": {},
   "source": [
    "## Else If (Condições secundárias)\n",
    "\n",
    "- Caso queiramos testar mais de uma condição, podemos utilizar esta estrutura, sua sintaxe é simples:"
   ]
  },
  {
   "cell_type": "code",
   "execution_count": null,
   "metadata": {},
   "outputs": [],
   "source": [
    "if(condicao1){\n",
    "    bloco se condicao 1 seja TRUE\n",
    "}else if(condicao2){\n",
    "    bloco se condicao 2 seja TRUE\n",
    "}else {\n",
    "    bloco se nenhuma das duas condições forem TRUE\n",
    "}"
   ]
  },
  {
   "cell_type": "markdown",
   "metadata": {},
   "source": [
    "## IF e ELSE em uma linha\n",
    "\n",
    "- No Kotlin assim como em diversas linguagens de programação podemos implementar estruturas de decisão, no caso do Kotlin na mesma linha.\n",
    "\n",
    "Como demonstra o exemplo:"
   ]
  },
  {
   "cell_type": "code",
   "execution_count": null,
   "metadata": {},
   "outputs": [],
   "source": [
    "var grade = 7.5</code>\n",
    "\n",
    "var result = if (grade > 7.0) \"aprovado\" else \"reprovado\"\n",
    "\n",
    "println(result)"
   ]
  },
  {
   "cell_type": "markdown",
   "metadata": {},
   "source": [
    "# When \n",
    "- Parecido com o switch, utilizado em algumas outras linguagens.\n",
    "- É preciso que o when cubra todos os cenários, portanto não se esquece do else (else é similar ao default usado em outras linguagens ao utilizar o switch)\n",
    "- Parecido com o If, porém menos verboso, sua sintaxe é simples:"
   ]
  },
  {
   "cell_type": "code",
   "execution_count": null,
   "metadata": {},
   "outputs": [],
   "source": [
    "println(\"----------Estrutura When------------\")\n",
    "\n",
    "var number = 17\n",
    "\n",
    "when( number % 2){\n",
    "    0 -> println(\"O número $number é Par\")\n",
    "    1 -> println(\"O número $number é Impar\")\n",
    "}"
   ]
  },
  {
   "cell_type": "markdown",
   "metadata": {},
   "source": [
    "- Ao inves de usarmos o <i style=\"color:red\">0 e 1</i>, podemos também usar <i style=\"color:green\">0 e Else</i>:"
   ]
  },
  {
   "cell_type": "code",
   "execution_count": null,
   "metadata": {},
   "outputs": [],
   "source": [
    "println(\"----------Estrutura When------------\")\n",
    "\n",
    "var number = 17\n",
    "\n",
    "when( number % 2){\n",
    "    0 -> println(\"O número $number é Par\")\n",
    "    else -> println(\"O número $number é Impar\")\n",
    "}"
   ]
  },
  {
   "cell_type": "markdown",
   "metadata": {},
   "source": [
    "- Podemos ainda usar uma estrutura ainda mais simples, sem o \"0\" também:"
   ]
  },
  {
   "cell_type": "code",
   "execution_count": null,
   "metadata": {},
   "outputs": [],
   "source": [
    "var letra = \"z\"\n",
    "\n",
    "when(letra){\n",
    "    \"a\",\"e\",\"i\",\"o\",\"u\" -> println(\"É uma vogal\")\n",
    "    else -> println(\"É uma Consoante\")\n",
    "}"
   ]
  },
  {
   "cell_type": "markdown",
   "metadata": {},
   "source": [
    "# Laços de repetição\n",
    "\n",
    "## While - Enquanto faça\n",
    "\n",
    "Usado para condição, enquanto faça, ou seja:\n",
    "\n",
    "- Primeiramente faz um validação condicional, se atendida, ele executa um bloco\n",
    "- Enquanto a validação for atendida, continue o laço de repetição\n",
    "- Pausa apenas quando a condição não for atendida (cuidado para não cair em loop infinite)\n",
    "- Lembre-se do incremento para não cair em loops infinitos\n",
    "- Precisamos criar a variavel de controle(incremento)!"
   ]
  },
  {
   "cell_type": "code",
   "execution_count": null,
   "metadata": {},
   "outputs": [],
   "source": [
    "//    Criamos uma lista\n",
    "    var numeros = listOf(1,2,3,4,5,6)\n",
    "\n",
    "//    Criamos uma variavel para futuramente incrementar\n",
    "    var i = 0\n",
    "\n",
    "//    Criamos um laço para verificar os itens pares da lista\n",
    "    while(i < numeros.size){\n",
    "\n",
    "        if(numeros[i] % 2 == 0){\n",
    "            println(\"O numero ${numeros[i]} é PAR\")\n",
    "        }\n",
    "//        Incrementamos com i++\n",
    "        i++\n",
    "    }"
   ]
  },
  {
   "cell_type": "markdown",
   "metadata": {},
   "source": [
    "# Do While - Faça Enquanto\n",
    "\n",
    "Usado para condição, faça enquanto, ou seja, ele primeiro faz um laço e só depois valida uma condição, diferente do simples While:\n",
    "\n",
    "- Primeiramente faz uma execução do bloco e só depois faz um validação condicional, se atendida, ele executa um bloco novamente\n",
    "- Enquanto a validação for atendida, continue o laço de repetição\n",
    "- Pausa apenas quando a condição não for atendida (cuidado para não cair em loop infinite)\n",
    "- Lembre-se do incremento para não cair em loops infinitos\n",
    "- Usada para quando temos algum laço no qual a primeira vez sempre é preciso executar o bloco e só depois valida se precisamos repetir\n",
    "- Precisamos criar a variavel de controle(incremento)!\n",
    "- Mesmo que ela não atenda a condição, ele fará a execução do bloco uma única vez\n",
    "\n",
    "Exemplo:"
   ]
  },
  {
   "cell_type": "code",
   "execution_count": null,
   "metadata": {},
   "outputs": [],
   "source": [
    "println(\"Vamos testar o laço do while\")\n",
    "\n",
    "var tentativas = 0\n",
    "    ar numeroDoDado = 0\n",
    "\n",
    "do {\n",
    "    tentativas += 1\n",
    "\n",
    "    numeroDoDado = ((Math.random()*6)+1).toInt()\n",
    "\n",
    "    println(\"Tentativa: $tentativas <-> Número Randomizado: $numeroDoDado\")\n",
    "} while (numeroDoDado != 6)\n",
    "\n",
    "println(\"Você tirou 6 após $tentativas tentativas\")"
   ]
  },
  {
   "cell_type": "markdown",
   "metadata": {},
   "source": [
    "# For com in e ..\n",
    "\n",
    "Similar ao While, mas não precisamos incrementar a variavel de incremento, ou seja é bem mais simples para quando saber quantas vezes queremos verificar dada situação.\n",
    "\n",
    "- A cada volta o a variavel incremento recebe automaticamente um incremento\n",
    "- Usado quando o incremento seguir um padrão de um em um \n",
    "- Lembrar que indices começam com zero.. então lembrar do ajuste ao usar \"list.size - 1\"\n",
    "- Recomendado para acessar items em uma lista.. o for faz isso de forma incrivel.\n",
    "- Não precisamos criar a variavel de controle(incremento)\n",
    "\n",
    "Exemplo:"
   ]
  },
  {
   "cell_type": "code",
   "execution_count": null,
   "metadata": {},
   "outputs": [],
   "source": [
    "println(\"Vamos testar laços For\")\n",
    "\n",
    "//    Criamos uma lista\n",
    "var numbers = listOf(1,2,3,4,5,6)\n",
    "\n",
    "//    Criamos uma variavel para futuramente incrementar\n",
    "var x = 0\n",
    "\n",
    "//    Criamos um laço para verificar os itens pares da lista\n",
    "for (x in 0 .. numbers.size - 1){\n",
    "\n",
    "    if(numbers[x] % 2 == 0){\n",
    "        println(\"O numero ${numbers[x]} é PAR\")\n",
    "    }\n",
    "\n",
    "}"
   ]
  },
  {
   "cell_type": "markdown",
   "metadata": {},
   "source": [
    "# For para acessar itens de uma lista ou array\n",
    "\n",
    "O for faz isso de maneira muito simples, me acompanhe no código abaixo:"
   ]
  },
  {
   "cell_type": "code",
   "execution_count": null,
   "metadata": {},
   "outputs": [
    {
     "ename": "",
     "evalue": "",
     "output_type": "error",
     "traceback": [
      "\u001b[1;31mThe Kernel crashed while executing code in the current cell or a previous cell. \n",
      "\u001b[1;31mPlease review the code in the cell(s) to identify a possible cause of the failure. \n",
      "\u001b[1;31mClick <a href='https://aka.ms/vscodeJupyterKernelCrash'>here</a> for more info. \n",
      "\u001b[1;31mView Jupyter <a href='command:jupyter.viewOutput'>log</a> for further details."
     ]
    }
   ],
   "source": [
    "var frutas = listOf(\"Maça\",\"Pera\",\"Uva\",\"Banana\")\n",
    "\n",
    "for (fruta in frutas){\n",
    "    println(fruta)\n",
    "}"
   ]
  },
  {
   "cell_type": "markdown",
   "metadata": {},
   "source": [
    "# For com until\n",
    "\n",
    "- Vimos que ao tentar fazer um for acessando o size de uma lista, precisamos ajustar pois o indice começa em \"0\", mas para isso podemos usar também o \"until\" e evitar isso, da seguinte forma:"
   ]
  },
  {
   "cell_type": "code",
   "execution_count": null,
   "metadata": {},
   "outputs": [],
   "source": [
    "println(\"Vamos testar laços For\")\n",
    "\n",
    "//    Criamos uma lista\n",
    "var numbers = listOf(1,2,3,4,5,6)\n",
    "\n",
    "//    Criamos uma variavel para futuramente incrementar\n",
    "var x = 0\n",
    "\n",
    "//    Criamos um laço para verificar os itens pares da lista\n",
    "for (x in 0 until numbers.size - 1){\n",
    "\n",
    "    if(numbers[x] % 2 == 0){\n",
    "        println(\"O numero ${numbers[x]} é PAR\")\n",
    "    }\n",
    "\n",
    "}"
   ]
  },
  {
   "cell_type": "markdown",
   "metadata": {},
   "source": [
    "# Coalescência Nula (? :)\n",
    "\n",
    "- Em Kotlin o operador <i style=\"color:red\">?:</i> permite decidir pelo uso de uma atribuição de redundância, caso a variável analisada seja nula.\n",
    "\n",
    "<code>var age: Int? = null</code>\n",
    "\n",
    "<code>var myAge = age ?: 0    //0</code>\n",
    "\n",
    "<code>println(myAge)</code>\n",
    "    \n",
    "<code>age = 25</code>\n",
    "\n",
    "<code>var newAge = age ?: 0   //25</code>\n",
    "\n",
    "<code>println(newAge)</code>"
   ]
  },
  {
   "cell_type": "markdown",
   "metadata": {},
   "source": [
    "# Close Range(..) e Half Closed Range(Until)\n",
    "\n",
    "- Estes operadores criam um intervalor de valores.\n",
    "\n",
    "    O <b>Closed Range (..)</b>\n",
    "\n",
    "    - Utiliza (..) para criar um intervalo aberto, indcando o valor inicial e o valor final\n",
    "\n",
    "\n",
    "    O <b>Half Closed Range (until)</b>\n",
    "\n",
    "    - Utiliza (.until)  para criar um intervalo entre o valor inicial e o valor imediamente anterior ao valor final(intervalo aberto no início e fechado ao final)\n",
    "\n",
    "    Exemplo com aplicação for:\n",
    "\n",
    "### Closed Range\n",
    "\n",
    "<code>println(\"\\nClosed Range ..\")</code>\n",
    "\n",
    "<code>var numbers = 1..10</code>\n",
    "\n",
    "<code>for (number in numbers) {</code>\n",
    "\n",
    "<code>println(number)   //Imprime de 1 a 10 </code>\n",
    "\n",
    "<code>}</code>\n",
    "\n",
    "### Half Closed Range\n",
    "    \n",
    "<code>println(\"\\nHalf Closed Range (until)\")</code>\n",
    "\n",
    "<code>var newNumbers = (1 until 10)</code>\n",
    "\n",
    "<code>for (number in newNumbers) {</code>\n",
    "\n",
    "<code> println(number)   //Imprime de 1 a 9 </code>\n",
    "\n",
    "<code>}</code>\n",
    "\n"
   ]
  },
  {
   "cell_type": "markdown",
   "metadata": {},
   "source": [
    "# Enum\n",
    "\n",
    "- Usado para criar uma lista de tamanhos fixos e valores definidos\n",
    "\n",
    "- Evita o erro ao citar um valor\n",
    "\n",
    "- <b style=\"color:red\">Normalmente criada fora do bloco fun main()</b>\n",
    "\n",
    "- Os elementos que esse enum tem, devem ser escritos de LETRA MAIÚSCULA"
   ]
  },
  {
   "cell_type": "code",
   "execution_count": null,
   "metadata": {},
   "outputs": [],
   "source": [
    "enum class TipoConta{\n",
    "    CORRENTE, POUPANCA, SALARIO\n",
    "}"
   ]
  },
  {
   "cell_type": "markdown",
   "metadata": {},
   "source": [
    "- Para usar os enumerados... vamos dentro do método main, e fazemos o seguinte:"
   ]
  },
  {
   "cell_type": "code",
   "execution_count": null,
   "metadata": {},
   "outputs": [],
   "source": [
    "fun main() {\n",
    "\n",
    "    val tipoDaConta = TipoConta.CORRENTE\n",
    "\n",
    "    println(tipoDaConta)\n",
    "\n",
    "\n",
    "}\n",
    "\n",
    "//Resultado:\n",
    "\n",
    "CORRRENTE"
   ]
  },
  {
   "cell_type": "markdown",
   "metadata": {},
   "source": [
    "- Mas o retorno saiu, todo em letras maiúsculas e de forma feia, podemos corrigir isso? SIM!"
   ]
  },
  {
   "cell_type": "code",
   "execution_count": null,
   "metadata": {},
   "outputs": [],
   "source": [
    "fun main() {\n",
    "\n",
    "    val tipoDaConta = TipoConta.CORRENTE.nomeConta\n",
    "\n",
    "    println(tipoDaConta)\n",
    "\n",
    "}\n",
    "\n",
    "enum class TipoConta(var nomeConta : String){\n",
    "    CORRENTE(\"Corrente\"), POUPANCA(\"Poupança\"), SALARIO(\"Salário\")\n",
    "}"
   ]
  },
  {
   "cell_type": "markdown",
   "metadata": {},
   "source": [
    "# Funções\n",
    "\n",
    "- Usada para componetizar nosso sistemas, ou seja dividir o programa em diversas funções distintas e descentralizar os códigos.\n",
    "\n",
    "- Usada para evitar ajustar seu código em inúmeros pontos.. usando uma função, alteramos apenas a função e todo local onde ela esteja sendo usada é alterado automaticamente.\n",
    "\n",
    "- É indicado que as funções façam apenas uma tarefa, ou seja possuem RESPONSÁBILIDADE ÚNICA\n",
    "\n",
    "- Segue o ideal de NÃO REPETIR O CÓDIGO.. por tanto se estiver repetindo algo, CRIE UMA FUNÇÃO! \n",
    "\n",
    "- Para declarar um função devemos seguinte a sintaxe <i style=\"color:springgreen\">fun nomeFuncao()</i>\n",
    "\n",
    "- Para chamar a função, basta citar seu nome e seus atributos se existirem.\n",
    "\n",
    "## Função com argumento - Função que imprime\n",
    "\n",
    "Um exemplo de uma função com argumentos:"
   ]
  },
  {
   "cell_type": "code",
   "execution_count": null,
   "metadata": {},
   "outputs": [],
   "source": [
    "fun main() {\n",
    "    var a = 10.00\n",
    "    var b = 20.51\n",
    "    var c = a + b\n",
    "\n",
    "    somar(a,b)\n",
    "    somar(5.51,8.98)\n",
    "\n",
    "}\n",
    "\n",
    "//Aqui Criamos a função nova, fora do Main()\n",
    "fun somar(valor1: Double, valor2: Double){\n",
    "    println(\"A Soma dos valores $valor1 + $valor2 é ${valor1+valor2}\")\n",
    "}"
   ]
  },
  {
   "cell_type": "markdown",
   "metadata": {},
   "source": [
    "# Função sem argumentos\n",
    "\n",
    "Exemplo de uma função sem argumentos:"
   ]
  },
  {
   "cell_type": "code",
   "execution_count": null,
   "metadata": {},
   "outputs": [],
   "source": [
    "fun main() {\n",
    "   \n",
    "   //Chamando a função saudar\n",
    "   Saudar()\n",
    "\n",
    "}\n",
    "\n",
    "//Aqui Criamos a função nova SEM ARGUMENTOS, fora do Main()\n",
    "fun saudar(){\n",
    "    println(\"Bem vindo ao TIME!\")\n",
    "}"
   ]
  },
  {
   "cell_type": "markdown",
   "metadata": {},
   "source": [
    "# Função que retorna algum valor\n",
    "\n",
    "- Ao construir uma função que desenha que retorne algo quando usada, devemos apontar o tipo de retorno, apos a passsagem dos parametros.\n",
    "\n",
    "- Além disso ela deve nos retorna algo, algo inclusive, do mesmo tipo que apontamos apos os parametros (no nosso caso Double) da seguinte forma:\n",
    "\n",
    "<i>fun nomeFuncao(param1 : Double, param2 : Double)</i> <b style=\"color:red\">: Double\n",
    "\n",
    "return 10.10 </b> \n",
    "\n",
    "\n",
    "- Com isso quem estiver usando a função, <i style=\"color:springgreen\">podemos criar uma variavel e atribuir a ela</i> o resultado desta função da seguinte maneira:\n",
    "\n",
    "Exemplo:"
   ]
  },
  {
   "cell_type": "code",
   "execution_count": null,
   "metadata": {},
   "outputs": [],
   "source": [
    "fun main() {\n",
    "\n",
    "\n",
    "//    Pegando o valor que a função passou a colocando em uma variavel\n",
    "    var x = subtrair(5,2)\n",
    "    println(x)\n",
    "}\n",
    "\n",
    "//Aqui Criamos a função nova QUE RETORNA VALOR, fora do Main()\n",
    "fun subtrair(valor1: Int, valor2: Int): Int{\n",
    "    return valor1 - valor2\n",
    "}"
   ]
  },
  {
   "cell_type": "markdown",
   "metadata": {},
   "source": [
    "# Função de uma linha - Single Expression\n",
    "\n",
    "- Usada quando queremos simplificar uma função que cabe em uma linha.\n",
    "\n",
    "- Quando faazemos isso, <i style=\"color:tomato\">não precisamos</i> usar os simbolos:\n",
    "\n",
    "    - <i style=\"color:tomato\">{chave}</i>\n",
    "    - <i style=\"color:tomato\">return</i>\n",
    "\n",
    "Exemplo:"
   ]
  },
  {
   "cell_type": "code",
   "execution_count": null,
   "metadata": {},
   "outputs": [],
   "source": [
    "//Aqui Criamos uma função SINGLE EXPRESSION de uma linha apenas, fora do Main()\n",
    "fun dividir(valor1:Int, valor2: Int) = valor1/valor2"
   ]
  },
  {
   "cell_type": "markdown",
   "metadata": {},
   "source": [
    "# Funções dentro de funções\n",
    "\n",
    "Em kotlin, podemos também utilizar funções dentro de funções:"
   ]
  },
  {
   "cell_type": "code",
   "execution_count": null,
   "metadata": {},
   "outputs": [],
   "source": [
    "fun main(args: Array<String>) {\n",
    "   fun double(x: Int): Int = x * 2\n",
    "   println(double(8))\n",
    "   fun triple(x: Int) = x * 3\n",
    "   println(triple(10))\n",
    "  \n",
    "}"
   ]
  },
  {
   "cell_type": "markdown",
   "metadata": {},
   "source": [
    "# Filter - .filter\n",
    "\n",
    "- É usado normalmente para criar um lista apartir de outra lista, com alguns filtros\n",
    "\n",
    "- Aonde o .filter percorre cada item da lista, iterando e testando um condição\n",
    "\n",
    "- Caso a condição seja atendida, ele adiciona o item a nova lista filtrada\n",
    "\n",
    "- Similar a um laço for com verificação, porém bem mais enxuta\n",
    "\n",
    "Exemplo:"
   ]
  },
  {
   "cell_type": "code",
   "execution_count": null,
   "metadata": {},
   "outputs": [],
   "source": [
    "fun main() {\n",
    "\n",
    "//    Criando a lista com todos valores\n",
    "    var numeros = listOf(1,2,3,4,5,6,7,8,9)\n",
    "\n",
    "//    Criando a lista apenas com pares, utilizando filter\n",
    "    var pares = numeros.filter {\n",
    "        it % 2 == 0\n",
    "    }\n",
    "\n",
    "//    Imprimindo a nova lista\n",
    "    println(pares)\n",
    "}"
   ]
  },
  {
   "cell_type": "markdown",
   "metadata": {},
   "source": [
    "# Map - .map\n",
    "\n",
    "- Altera todos item da lista de alguma forma e adiciona em uma nova lista\n",
    "\n",
    "- Similar ao filter, mas este não apenas cria uma nova lista com items que passarem por dada condição, ele altera todos os items da lista.\n",
    "\n",
    "- Como por exemplo, gostariamos de passar todos os items da lista para letra Maiuscula, para isso fazemos os seguinte código:"
   ]
  },
  {
   "cell_type": "code",
   "execution_count": null,
   "metadata": {},
   "outputs": [],
   "source": [
    "println(\"--------Aprendendo sobre Map---------\")\n",
    "\n",
    "var frutas = listOf(\"uva\",\"manga\",\"morango\",\"abacaxi\",\"laranja\")\n",
    "\n",
    "var frutasMaisculas = frutas.map {\n",
    "    it.uppercase()\n",
    "}"
   ]
  },
  {
   "attachments": {
    "image.png": {
     "image/png": "[encoded data removed]"
    }
   },
   "cell_type": "markdown",
   "metadata": {},
   "source": [
    "# Reduce - .reduce\n",
    "\n",
    "- Ele tem a intenção de reduzir uma lista inteira, para apenas um item\n",
    "\n",
    "- Para esta redução temos que apontar algum tipo de operação como por exemplo uma soma\n",
    "\n",
    "- Ele segue um padrão similar a numerologia, onde o primeiro soma com o segundo.. esse valor é somado ao proximo, que depois é somado com o proximo e por ai vai..\n",
    "\n",
    "![image.png](attachment:image.png)\n",
    "\n",
    "Um exemplo disso seria:\n",
    "\n"
   ]
  },
  {
   "cell_type": "code",
   "execution_count": null,
   "metadata": {},
   "outputs": [],
   "source": [
    "println(\"--------Aprendendo sobre Reduce---------\")\n",
    "\n",
    "var numerostotais = listOf(1,4,8,14,19,26,93,93,)\n",
    "\n",
    "var numeroLogiaComReduce = numerostotais.reduce { atual, proximo ->\n",
    "\n",
    "    atual + proximo\n",
    "}\n",
    "\n",
    "println(\"Segundo a numerologia seu numero é: \"+ numeroLogiaComReduce)"
   ]
  },
  {
   "cell_type": "markdown",
   "metadata": {},
   "source": [
    "# Generics\n",
    "\n",
    "- Você possívelmente notou na sintaxe do método REDUCE um tipo \"it\".\n",
    "\n",
    "- Esse tipo não é valido ou existente na linguagem, apenas foi criado para assinatura deste método (reduce), e serve para representar um tipo genérico, uma indicação de que qualquer tipo pode ser utilizado naquele parâmetro"
   ]
  },
  {
   "attachments": {
    "image.png": {
     "image/png": "[encoded data removed]"
    }
   },
   "cell_type": "markdown",
   "metadata": {},
   "source": [
    "# Classes\n",
    "\n",
    "- Classe são quem:\n",
    "\n",
    "    - Definem propriedades para armazenar valores\n",
    "\n",
    "    - Definem métodos para fornecer funcionalidades\n",
    "\n",
    "    - Definem inicializadores para configurar seu estado inicial\n",
    "\n",
    "    - Podem ser estendidadas para expandir suas funcionalidades, além das presentes \n",
    "    em suas implementações\n",
    "\n",
    "    - Trabalham com herança, o que permite que uma classe possa herdar as características de outra\n",
    "    \n",
    "    - Type casting, que lhe permite checar e interpretar uma classe como sendo outra\n",
    "\n",
    "- A linguagem Kotlin é multiparadigma, ou seja, pode ser usado no paradigma orientado a objeto, ou funcional.\n",
    "\n",
    "- Agora iremos iniciar com orientação a objetos, trazendo caracteristica do mundo real para nosso mundo Kotlin, ou seja trazendo caracteristica e atributos de um dado objeto para nosso mundo Kotlin.\n",
    "\n",
    "- Uma classe é a forma como classificamos dados tipos de objeto, como por exemplo classe carros, são aqueles objetos que possuem as caracteristicas como, rodas, volante, motor entre outros atributos.\n",
    "\n",
    "- Em classe, o ideal é que criemos uma pasta especifica para nossas classes, normalmente pasta chamada \"model\", esta pasta deve ficar dentro de src>main>kotlin>\"model\", lembrando de setar a opção criar package\n",
    "\n",
    "- Apos criar a pasta(pacote), clicamos nela com o lado direito do mouse e clicamos na opção new class kotlin e criamos a classe.\n",
    "\n",
    "<center>\n",
    "\n",
    "![image.png](attachment:image.png)\n",
    "\n",
    "</center>\n"
   ]
  },
  {
   "cell_type": "markdown",
   "metadata": {},
   "source": [
    "# Criando uma classe\n",
    "\n",
    "- Apos ter criado a classe dentro da pasta model. basta iniciar com \"class nomeClasse\" e inserir os atributos da seguinte maneira:"
   ]
  },
  {
   "cell_type": "code",
   "execution_count": null,
   "metadata": {},
   "outputs": [],
   "source": [
    "package model\n",
    "\n",
    "\n",
    "class Pessoa {\n",
    "\n",
    "//    Propriedades/atributo/campo do objeto\n",
    "    var nome: String = \"\"\n",
    "    var altura: Double = 0.0\n",
    "    var peso: Int = 0\n",
    "}"
   ]
  },
  {
   "cell_type": "markdown",
   "metadata": {},
   "source": [
    "# Criando uma classe com construtor\n",
    "\n",
    "- Assim como em outra linguagens, podemos criar classes atráves do uso de construtores.\n",
    "\n",
    "- Para elaborar um construtor, devemos ir dentro da pasta model e no arquivo da classe dessejado e fazer da seguinte maneira:"
   ]
  },
  {
   "cell_type": "code",
   "execution_count": null,
   "metadata": {},
   "outputs": [],
   "source": [
    "package model\n",
    "\n",
    "class Carro constructor(var modelo: String, var ano: String) {\n",
    "\n",
    "}"
   ]
  },
  {
   "cell_type": "markdown",
   "metadata": {},
   "source": [
    "### Criando um objeto da classe - Instanciando\n",
    "\n",
    "- Depois de ter criado a classe, podemos instancia-la no nosso arquivo main\n",
    "\n",
    "- Lembrando que ao tentar usar a função print do objeto, teremos o endereço de memoria (caso não tenha criado um método para isto), por tanto funcionará apenas print do objeto.atributo, da seguinte maneira:\n",
    "\n"
   ]
  },
  {
   "cell_type": "code",
   "execution_count": null,
   "metadata": {},
   "outputs": [],
   "source": [
    "fun main() {\n",
    "\n",
    "//    Criando uma pessoa\n",
    "    val pessoa = Pessoa()\n",
    "    pessoa.nome = \"Andre\"\n",
    "    pessoa.altura = 1.80\n",
    "    pessoa.peso = 80\n",
    "\n",
    "    println(pessoa.nome)\n",
    "\n",
    "}"
   ]
  },
  {
   "cell_type": "markdown",
   "metadata": {},
   "source": [
    "### Alterando dado de um objeto\n",
    "\n",
    "Para alterar algum dado, podemos acessar o dado do objeto e atribuir um novo valor:"
   ]
  },
  {
   "cell_type": "code",
   "execution_count": null,
   "metadata": {},
   "outputs": [],
   "source": [
    "//    Alterando pessoa 1\n",
    "pessoa.altura = 1.99\n",
    "\n",
    "println(pessoa.altura)"
   ]
  },
  {
   "cell_type": "markdown",
   "metadata": {},
   "source": [
    "### Criando um método da classe\n",
    "\n",
    "Dentro do arquivo da classe(na pasta model), podemos criar diversos método uteis para posteriormente usa-los no arquivo main:"
   ]
  },
  {
   "cell_type": "code",
   "execution_count": null,
   "metadata": {},
   "outputs": [],
   "source": [
    "package model\n",
    "\n",
    "\n",
    "class Pessoa {\n",
    "\n",
    "//    Propriedades/atributo/campo do objeto\n",
    "    var nome: String = \"\"\n",
    "    var altura: Double = 0.0\n",
    "    var peso: Int = 0\n",
    "\n",
    "//    Métodos/comportamentos\n",
    "    fun exibirDados(){\n",
    "        println(\"Nome: $nome | Peso: $peso | Altura: $altura\")\n",
    "        println(\"\\n\")\n",
    "\n",
    "    }\n",
    "\n",
    "\n",
    "}"
   ]
  },
  {
   "cell_type": "markdown",
   "metadata": {},
   "source": [
    "### Chamando um método da classe\n",
    "\n",
    "Depois da construção do método, para acessar o método é bem simples a sintaxe: \n",
    "\n",
    "<i style=\"coloe:springgreen\">nomeObjetoDaClasse.nomeMetodo()</i>\n",
    "\n",
    "Exemplo:"
   ]
  },
  {
   "cell_type": "code",
   "execution_count": null,
   "metadata": {},
   "outputs": [],
   "source": [
    "import model.Pessoa\n",
    "\n",
    "\n",
    "fun main() {\n",
    "\n",
    "//    Criando uma pessoa\n",
    "    val pessoa = Pessoa()\n",
    "    pessoa.nome = \"Andre\"\n",
    "    pessoa.altura = 1.80\n",
    "    pessoa.peso = 80\n",
    "\n",
    "\n",
    "//    Chamando um método da classe\n",
    "    pessoa.exibirDados()\n",
    "    pessoa2.exibirDados()\n",
    "\n",
    "}"
   ]
  },
  {
   "cell_type": "markdown",
   "metadata": {},
   "source": [
    "# Herança \n",
    "\n",
    "- Herança é quando uma classe herda propriedades de outra classe, por exemplo, classe pessoa e classe funcionario... ou seja podemos criar a classe funcionario que herda a classe pessoa, herdando atributos como, idade, peso, data de nascimento, e na classe funcionario tera atributos como salario, dt contratacao e etc.\n",
    "\n",
    "<i style=\"color:springgreen\">\n",
    "\n",
    "- Quando usado herança, o filho(a) acessa os métodos e atributos da mãe\n",
    "\n",
    "- A mãe não acessa os atributos exclusivos dos filhos!\n",
    "\n",
    "</i>\n",
    "- Para que uma classe tenha herança, precisamos nos atentar a dois pontos:\n",
    "\n",
    " 1- Primeiro a classe mãe, precisa ter a palavra reservada <i style=\"color:red\">open</i> antes da palavra class\n",
    "\n",
    " exemplo:"
   ]
  },
  {
   "cell_type": "code",
   "execution_count": null,
   "metadata": {},
   "outputs": [],
   "source": [
    "package model\n",
    "\n",
    "\n",
    "open class Pessoa {\n",
    "\n",
    "}"
   ]
  },
  {
   "cell_type": "markdown",
   "metadata": {},
   "source": [
    " 2 - A classe filha precisa apontar que tem uma herança, citando apos o nome da classe() \": Classe mae\", da seguinte maneira, podendo ser considerado também que classe filha É uma pessoa (classe mae):"
   ]
  },
  {
   "cell_type": "code",
   "execution_count": null,
   "metadata": {},
   "outputs": [],
   "source": [
    "package model\n",
    "\n",
    "//Funcionario herda de pessoa\n",
    "class Funcionario: Pessoa() {\n",
    "\n",
    "    var cargo: String = \"\"\n",
    "    var salario: Double = 0,0\n",
    "\n",
    "}"
   ]
  },
  {
   "cell_type": "markdown",
   "metadata": {},
   "source": [
    "## Instanciando um(a) filho(a) de herança\n",
    "\n",
    "- É simples, basta adicionar os valores da mãe (herdados) e os exclusivos.\n",
    "\n",
    "- Podendo ainda utilizar alguns métodos de maneira igual ou exclusiva.\n"
   ]
  },
  {
   "cell_type": "code",
   "execution_count": null,
   "metadata": {},
   "outputs": [],
   "source": [
    "//    Instanciando um funcionario, que acessa propriedades de pessoa\n",
    "var funcionario = Funcionario()\n",
    "funcionario.nome = \"Andrew\"\n",
    "funcionario.peso = 80\n",
    "funcionario.altura = 1.90\n",
    "funcionario.cargo = \"Dev Senior\"\n",
    "funcionario.salario = 3300.00"
   ]
  },
  {
   "cell_type": "markdown",
   "metadata": {},
   "source": [
    "# Sobreescrita - Override\n",
    "\n",
    "- Usado quando um filho herda um método da mãe, porém que este método tenha um comportamento diferente do método na mãe.\n",
    "\n",
    "\n",
    "- Para fazer a sobrescrita temos que se atentar a dois pontos:\n",
    "\n",
    "    - Adicionar open na frente do método na classe mãe"
   ]
  },
  {
   "cell_type": "code",
   "execution_count": null,
   "metadata": {},
   "outputs": [],
   "source": [
    "package model\n",
    "\n",
    "\n",
    "open class Pessoa {\n",
    "\n",
    "//    Propriedades/atributo/campo do objeto\n",
    "    var nome: String = \"\"\n",
    "    var altura: Double = 0.0\n",
    "    var peso: Int = 0\n",
    "\n",
    "//    Métodos/comportamentos\n",
    "    open fun exibirDados(){\n",
    "        println(\"Nome: $nome | Peso: $peso | Altura: $altura\")\n",
    "        println(\"\\n\")\n",
    "\n",
    "    }\n",
    "\n",
    "\n",
    "}"
   ]
  },
  {
   "cell_type": "markdown",
   "metadata": {},
   "source": [
    "- \n",
    "    - Adicionar que é uma sobreescrita, ou seja um override na frente do método:"
   ]
  },
  {
   "cell_type": "code",
   "execution_count": null,
   "metadata": {},
   "outputs": [],
   "source": [
    "package model\n",
    "\n",
    "//Funcionario herda de pessoa\n",
    "class Funcionario: Pessoa() {\n",
    "\n",
    "    var cargo: String = \"\"\n",
    "    var salario: Double = 0.00\n",
    "\n",
    "    override fun exibirDados(){\n",
    "        println(\"Nome: $nome | Peso: $peso | Altura: $altura | Cargo: $cargo | Salário: $salario\")\n",
    "        println(\"\\n\")\n",
    "    }\n",
    "\n",
    "}"
   ]
  },
  {
   "cell_type": "markdown",
   "metadata": {},
   "source": [
    "# Construindo classe mãe e filha com construtores\n",
    "\n",
    "- Acima vimos como construir as classes mãe e filha, as instanciando e depois passando seus atributos, mas podemos fazer isso de uma unica vez se usarmos construtores.\n",
    "\n",
    "- Lembrando que na classe filha o construtor , deve primeiro passar seus atributos e depois apontar com a palavra reservada \"SUPER\" os atributos herdados da mãe da seguinte maneira:"
   ]
  },
  {
   "cell_type": "code",
   "execution_count": null,
   "metadata": {},
   "outputs": [],
   "source": [
    "open class Pessoa constructor(var name: String, var eHomem: Boolean, var idade: Int = 0) {\n",
    "    \n",
    "   }\n",
    "\n",
    "//HERANÇA\n",
    "class Estudante : Pessoa {\n",
    "    constructor (name: String, eHomem: Boolean, idade: Int = 0, rm: String) : super(name,eHomem,idade) {\n",
    "    }\n",
    "}\n"
   ]
  }
 ],
 "metadata": {
  "kernelspec": {
   "display_name": "Python 3",
   "language": "python",
   "name": "python3"
  },
  "language_info": {
   "codemirror_mode": {
    "name": "ipython",
    "version": 3
   },
   "file_extension": ".py",
   "mimetype": "text/x-python",
   "name": "python",
   "nbconvert_exporter": "python",
   "pygments_lexer": "ipython3",
   "version": "3.12.1"
  }
 },
 "nbformat": 4,
 "nbformat_minor": 2
}
