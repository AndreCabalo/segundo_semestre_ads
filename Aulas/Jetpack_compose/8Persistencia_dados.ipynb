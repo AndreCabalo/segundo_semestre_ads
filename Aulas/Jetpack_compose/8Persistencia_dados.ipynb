{
 "cells": [
  {
   "cell_type": "markdown",
   "metadata": {},
   "source": [
    "# Persistencia de dados\n",
    "\n",
    "Durante o desenvolvimento de apps, nos deperamos com situações onde precisamos precisamos persisti os dados, nem sempre em um servidor remoto, pois nosso usuário pode utilizar a aplicação mesmo sem conexão de uma rede.\n",
    "\n",
    "Por tanto permite o usa da aplicação offline é um habilidade que o desenvolvedor Mobile deve possuir!\n",
    "\n",
    "Nesse capitulo iremos aprender a persistir dados localmente utilizando a **Biblioteca Room**, que oferece uma camada de abstração sobre o SQLite livrando o dev da construção de códigos extensos em SQL, salvo o SELECT!\n",
    "\n",
    "Borá la!\n"
   ]
  },
  {
   "cell_type": "markdown",
   "metadata": {},
   "source": [
    "## Implementando o Room no Projeto Android\n",
    "\n",
    "- Criamos um projeto Android Studio Compose e o nomeamos de \"Meus Contatos\"\n",
    "- Antes de começarmos vamos adicionar as dependências da biblioteca Room em nosso projeto, então abra o arquivo \"build.gradle(module:app)\" e adicione na sessão \"dependencies\" as seguintes linhas:"
   ]
  },
  {
   "cell_type": "code",
   "execution_count": null,
   "metadata": {
    "vscode": {
     "languageId": "javascript"
    }
   },
   "outputs": [],
   "source": [
    "//    Implementação do ROOM\n",
    "\n",
    "        val room_version = \"2.6.1\"\n",
    "\n",
    "    implementation(\"androidx.room:room-runtime:$room_version\")\n",
    "    annotationProcessor(\"androidx.room:room-compiler:$room_version\")\n",
    "    "
   ]
  },
  {
   "cell_type": "markdown",
   "metadata": {},
   "source": [
    "Além disso precisaremos também inserir alguns plugins, neste mesmo arquivo build.gradle, na sessão de plugins e adicionar:"
   ]
  },
  {
   "cell_type": "code",
   "execution_count": null,
   "metadata": {
    "vscode": {
     "languageId": "javascript"
    }
   },
   "outputs": [],
   "source": [
    "plugins {\n",
    "    alias(libs.plugins.androidApplication)\n",
    "    alias(libs.plugins.jetbrainsKotlinAndroid)\n",
    "    //Adicionar este \\/\n",
    "    id(\"kotlin-kapt\")\n",
    "\n",
    "}"
   ]
  },
  {
   "cell_type": "markdown",
   "metadata": {},
   "source": [
    "Após adicionar o kapt nos plugins, vamos sincronizar com \"Sync Now\", com a sincronização concluída, podemos adicionar mais uma dependencia, a dependencia do kapt:"
   ]
  },
  {
   "cell_type": "code",
   "execution_count": null,
   "metadata": {
    "vscode": {
     "languageId": "javascript"
    }
   },
   "outputs": [],
   "source": [
    "    //Adicionando o kapt\n",
    "    kapt(\"androidx.room:room-compiler:$room_version\")"
   ]
  },
  {
   "cell_type": "markdown",
   "metadata": {},
   "source": [
    "Podemos usar também o KSP, mas usaremos o kapt nessa atividade, mesmo sabendo que o KSP tem um desempenho melhor que o KAPT."
   ]
  },
  {
   "cell_type": "markdown",
   "metadata": {},
   "source": [
    "## Com o Room implementado.. seguimos\n",
    "\n",
    "Lembrando que para trabalhar com ROOM, devemos usar classes, e cada classe possui um serie de parametros.\n",
    "\n",
    "Por tanto vamos criar um pacote com os models (classes), no caso criaremos uma \"Data Class\" chamada \"Produtos\", dataClass pois essa classe só armazenara dados.\n",
    "\n",
    "E criamos a classe data com seus atributos:"
   ]
  },
  {
   "cell_type": "code",
   "execution_count": null,
   "metadata": {
    "vscode": {
     "languageId": "javascript"
    }
   },
   "outputs": [],
   "source": [
    "package br.com.fiap.cadastrodeproduto.model\n",
    "\n",
    "data class Produto(\n",
    "    var id:Int = 0,\n",
    "    var nome:String = \"\",\n",
    "    var quantidade: Int = 0,\n",
    "    var dataVencimento: String = \"\",\n",
    "    var disponivel: Boolean = false\n",
    ")"
   ]
  },
  {
   "cell_type": "markdown",
   "metadata": {},
   "source": [
    "E para utiliza-lo é simples, como ja deixamos alguns valores default, basta chamar a classe e mudar o parametro que desejar:"
   ]
  },
  {
   "cell_type": "code",
   "execution_count": null,
   "metadata": {
    "vscode": {
     "languageId": "javascript"
    }
   },
   "outputs": [],
   "source": [
    "//Aqui a var produto que recebe Produto com o nome andrezao e os demais valor default\n",
    "var prod = Produto(nome = \"WheyProtein\", disponivel = true)\n"
   ]
  },
  {
   "cell_type": "markdown",
   "metadata": {},
   "source": [
    "## Agora precisamos apontar algumas infos da nossa classe\n",
    "\n",
    "Para que o SQLite possa entende, precisamos definir algumas infos como:\n",
    "\n",
    "- É um entity?\n",
    "- Qual o nome da entity na tabela?\n",
    "- Qual a chave primaria?\n",
    "- A chave primaria é autogerada?\n",
    "- Qual o nome da coluna e se ela possui um default value\n",
    "\n",
    "Para apontar este basta seguir o exemplo abaixo:"
   ]
  },
  {
   "cell_type": "code",
   "execution_count": null,
   "metadata": {
    "vscode": {
     "languageId": "javascript"
    }
   },
   "outputs": [],
   "source": [
    "@Entity(tableName = \"tbl_produtos\")             //aqui passamos que será um entidade, com o nometabela de tbl_produtos\n",
    "\n",
    "data class Produto(\n",
    "    @PrimaryKey(autoGenerate = true)           //definimos que o primeiro atributo é chave primaria e também será autogerado\n",
    "    var id:Long = 0,\n",
    "\n",
    "    var nome:String = \"\",\n",
    "    var quantidade: Int = 0,\n",
    "\n",
    "    @ColumnInfo(name = \"data_vencimento\", defaultValue = \"2024-01-01\")          //Definimos que esta coluna tera o nome de \"data_vencimento\" e um valor padrão\n",
    "    var dataVencimento: String = \"\",\n",
    "    \n",
    "    var disponivel: Boolean = false\n",
    ")"
   ]
  },
  {
   "cell_type": "markdown",
   "metadata": {},
   "source": [
    "## Criar uma interface para orientar o ROOM \n",
    "\n",
    "- Para isso criamos um pacote chamado \"dao\"\n",
    "\n",
    "- Criamos um arquivo chamado \"ProdutoDao\" do tipo **interface** \n",
    "\n",
    "- Precisamos ter uma interface para cada produto! Estas interfaces dizem quais os comandos de persistencia este objeto fara\n",
    "\n",
    "- Para que o ROOM saiba qual ele deve observar usaremos na interface o decorator **@Dao**\n",
    "\n",
    "- Agora criamos a função que desejamos e a cima dela usamos um dos seguintes decorators:\n",
    "\n",
    " - **@Insert**, para inserir\n",
    "\n",
    " - **@Update**, para atualizar\n",
    "\n",
    " - **@Query**, que busca algo no banco porém este precisa ter o Select personalizado\n",
    "\n",
    " - **@Deleta**, que deleta algo no banco, passando o id ou o objeto em si\n",
    "\n",
    " Exemplo da aplicação:"
   ]
  },
  {
   "cell_type": "code",
   "execution_count": null,
   "metadata": {
    "vscode": {
     "languageId": "javascript"
    }
   },
   "outputs": [],
   "source": [
    "@Dao\n",
    "interface ProdutoDao {\n",
    "\n",
    "    //função salvar, que passaremos um produto do tipo Produto e retornara um Long que é o ID\n",
    "    @Insert\n",
    "    fun salvar(produto: Produto): Long\n",
    "\n",
    "    //função que atualiza produto do tipo lista de produto e retorna a quantidade de itens atualizados\n",
    "    @Update\n",
    "    fun atualizar(produto: List<Produto>): Int\n",
    "\n",
    "    //função que lista todos os produtos e retorna uma lista de produtos em ordem por nome\n",
    "    @Query(\"SELECT * FROM tbl_produtos ORDER BY nome\")\n",
    "    fun listarTodosOsProdutos(): List<Produto>\n",
    "\n",
    "    //função que busca por id\n",
    "    @Query(\"SELECT * FROM tbl_produtos WHERE id = :id\")\n",
    "    fun buscarProdutoId(id:Long): Produto\n",
    "\n",
    "    //Função que deleta um produto e diz quanto foram deletados\n",
    "    @Delete\n",
    "    fun excluir(produto:Produto): Int\n",
    "}"
   ]
  },
  {
   "cell_type": "markdown",
   "metadata": {},
   "source": [
    "## Apos criarmos o DAO, precisamos também criar o repository\n",
    "\n",
    "..mas a aula parou nisso, vou buscar o conteúdo na materia do portal"
   ]
  },
  {
   "cell_type": "markdown",
   "metadata": {},
   "source": [
    "## SQLite\n",
    "\n",
    "SQLite, trabalha com o **ORM (Object-Relational Mapping)**, onde temos a classe e a entidade(tabela) que a representa.\n",
    "\n",
    "Por tanto criamos a classe e o SQLite cria essa entidade e a tabela automaticamente\n",
    "\n",
    "Um banco de dados leve(simples), onde podemos guardar 4x tipos de dados:\n",
    "\n",
    "- Integer\n",
    "\n",
    "- Real\n",
    "\n",
    "- Strings\n",
    "\n",
    "- Blob (video e imagens)\n",
    "\n",
    "- Os tipos boolean, vamos armazenar em forma de números internos, ou seja 0(false) e 1(true)\n",
    "\n",
    "- Data e hora, devemos armazenar em formato texto, como \"YYYY-MM-DD HH:MM:SS\"\n",
    "\n",
    "- Outra opção para data e hora e pegar os milisegundos da data, seja em real ou interger, mas sinceramente esta opção é um pouco mais complexa do que a opção String com formatação padrão\n",
    "\n",
    "Mais infos em https://www.sqlite.org/datatype3.html e recomendamos um breve leitura\n",
    "\n",
    "### SQLite e anotação\n",
    "\n",
    "Para indicar que uma classe é uma entidade, precisaremos apenas usar o anotation ou decorator (como preferir), adicionar o <code>@entity</code> em cima da classe desejada\n",
    "\n",
    "..parei no video aos 31:34 da live trilha android 3"
   ]
  }
 ],
 "metadata": {
  "language_info": {
   "name": "python"
  }
 },
 "nbformat": 4,
 "nbformat_minor": 2
}
