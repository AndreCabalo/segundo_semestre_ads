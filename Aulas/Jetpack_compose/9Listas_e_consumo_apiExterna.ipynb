{
 "cells": [
  {
   "cell_type": "markdown",
   "metadata": {},
   "source": [
    "# Intro ás Listas\n",
    "\n",
    "- **LazyColumn** - Lista vertical\n",
    "    - Monta apenas componentes que esta visivél para usuário\n",
    "    - Desenha conforme o usuário precisa\n",
    "\n",
    "- **LazyRow** - Lista horizontal\n",
    "    - Monta apenas componentes que esta visivél para usuário\n",
    "    - Desenha conforme o usuário precisa"
   ]
  },
  {
   "cell_type": "markdown",
   "metadata": {},
   "source": [
    "## Items das Lazy's\n",
    "\n",
    "Ao criar estes componentes Lazy's, temos a opção de o parametros **items** e junto a ele a contagem de itens a inserir.\n",
    "\n",
    "- Além de passagem o numero, valor que representa a quantidade de repetição do item, podemos também passar um lista\n",
    "\n",
    "- Além do numero de iterações que pode ser definido ou carregado uma lista, atribuimos uma função a cada laço, podendo receber, text, card entre outros"
   ]
  },
  {
   "cell_type": "markdown",
   "metadata": {},
   "source": [
    "## Filtro\n",
    "\n",
    "Iremos inserir um campo de busca, onde apos inserir os dados e pesquisar, ele faça uma filtragem dos dados.\n",
    "\n",
    "Para isso, usamos a função listaQualquer.filter, filtro este que pode ser, inúmero:\n",
    "\n",
    "- StartsWith, começar com algum prefixo, ignoreCase ou não.\n",
    "- EndsWith, finaliza com algum sufixo, ignoreCase ou não.\n",
    "\n",
    "- Adiciona a função ao click do button"
   ]
  },
  {
   "cell_type": "markdown",
   "metadata": {},
   "source": [
    "# Intro ao consumo de APIS e Retrofit\n",
    "\n",
    "- App conectada, para ser conectada, precisamos se conectar com algum serviço, ou seja um serviço back-end que esteja rodando a um servidor remoto, que atende requisições http\n",
    "\n",
    "- API Rest, são as APIS mais comuns, onde temos um url no formato http que faz a requisição de uma chamada, onde geralmente os serviços nos devolvem em formato JSON ou XML. Onde estes trabalham com chave:valor \n",
    "\n",
    "- Mas mesmo tendo este arquivo json com chave:valor, precisamos converter de objeto para texto e como fazemos de texto para objeto.\n",
    "\n",
    "- Para isso temos a biblioteca Retrofit, que é uma padrão de consumo de API, onde o retrofit abstrai uma serie de funcionalidade para nós"
   ]
  },
  {
   "cell_type": "markdown",
   "metadata": {},
   "source": [
    "## Configuração do ambiente para retrofit\n",
    "\n",
    "- Retrofit não faz parte do pacote, por tanto precisamos importa-la e configura-la.\n",
    "\n",
    "\n",
    "- No Gradle Scripts > build.gradle(Module:app)> na sessão de dependencias insira:\n",
    "\n",
    "    <code>implementation 'com.squareup.retrofit2:retrofit:2.9.0'</code>\n",
    "\n",
    "    <code>implementation 'com.squareup.retrofit2:rconverter-gson:2.9.0'</code>\n",
    "\n",
    "- APIS retornam normalmente arquivo texto no formato JSON, quem converte e esse JSON em objeto\n",
    "\n",
    "- Criamos um pacote chamado \"service\", para guardar a classe que faz a conexão com o servidor remoto"
   ]
  },
  {
   "cell_type": "markdown",
   "metadata": {},
   "source": [
    "# Padrão Json\n",
    "\n",
    "- Normalmente o retorno dos API'S são em arquivos JSON, por exemplo o **APIS VIACEP**, onde usamos através do http https://viacep.com.br/ws/xxxxxx/json/, fazemos uma requisição entre clienteWeb - Servidor. e o servidor nos retorna um arquivo JSON e não uma pagina comum.\n",
    "\n",
    "- Onde substituimos o \"xxxxxx\" por um **CEP** e nos é retornado um arquivo do tipo JSON com dados do CEP.\n",
    "\n",
    "\n",
    "Além do padrão de requisição HTTP acima: \n",
    "\n",
    " <code>https://viacep.com.br/ws/CEPQUALQUER/json/</code> \n",
    "\n",
    " <code>https://viacep.com.br/ws/09051610/json/</code> \n",
    "\n",
    "\n",
    " Podemos usar o padrão que pesquisa por Estado/Cidade/rua, da seguinte maneira:\n",
    "\n",
    " <code>https://viacep.com.br/ws/ESTADO/CIDADE/RUA/json/</code> \n",
    " \n",
    " <code>https://viacep.com.br/ws/SP/SantoAndre/Inverno/json/</code>\n",
    "\n",
    "\n",
    "Exemplo do resultado:"
   ]
  },
  {
   "cell_type": "code",
   "execution_count": null,
   "metadata": {
    "vscode": {
     "languageId": "javascript"
    }
   },
   "outputs": [],
   "source": [
    "{\n",
    "    \"cep\": \"09051-610\",\n",
    "    \"logradouro\": \"Rua Inverno\",\n",
    "    \"complemento\": \"\",\n",
    "    \"bairro\": \"Jardim Bom Pastor\",\n",
    "    \"localidade\": \"Santo André\",\n",
    "    \"uf\": \"SP\",\n",
    "    \"ibge\": \"3547809\",\n",
    "    \"gia\": \"6269\",\n",
    "    \"ddd\": \"11\",\n",
    "    \"siafi\": \"7057\"\n",
    "}"
   ]
  },
  {
   "cell_type": "markdown",
   "metadata": {},
   "source": [
    "- Para que o Android possa receber estes dados, precisamos criar um **classe Kotlin** que saiba receber estes dados e representa-la.\n",
    "\n",
    "- Lembrando que podemos criar uma classe que pegue apenas algum dos dados do Json e não todos que a API fornece!\n",
    "\n",
    "- Os atributos da classe precisam ter o nome igual da chave do JSON, caso contrario precisaremos usa o **@SerializedName**\n",
    "\n",
    "- Na construção da classe, se quisermos mudar o nome do atributo, por exemplo de \"logradouro\" para \"rua\" podemos usar o **@SerializedName(\"logradouro\")**\n"
   ]
  },
  {
   "cell_type": "markdown",
   "metadata": {},
   "source": [
    "## Criação da interface de requisição á API\n",
    "\n",
    "- Criamos a interface dentro do pacote \"Service\", e o arquivo será do tipo interface\n",
    "\n",
    "- Criamos neste arquivo uma função do tipo Call< Endereco >\n",
    "\n",
    "- A cima desta função adicionamos o decorator @GET (do import retrofit) e parametro do get colocamos o endpoint com a variavel\n"
   ]
  },
  {
   "cell_type": "markdown",
   "metadata": {},
   "source": [
    "...//PAREI NO VIDEO CRIAÇÃO DO CLEINTE HTTP DO RETROFIT, EM 7/10"
   ]
  }
 ],
 "metadata": {
  "language_info": {
   "name": "python"
  }
 },
 "nbformat": 4,
 "nbformat_minor": 2
}
