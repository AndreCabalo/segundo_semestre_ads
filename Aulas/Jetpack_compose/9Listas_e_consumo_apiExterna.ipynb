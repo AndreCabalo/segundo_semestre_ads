{
 "cells": [
  {
   "cell_type": "markdown",
   "metadata": {},
   "source": [
    "# Intro ás Listas\n",
    "\n",
    "- **LazyColumn**\n",
    "    - Monta apenas componentes que esta visivél para usuário\n",
    "    - Desenha conforme o usuário precisa\n",
    "\n",
    "- **LazyRow**\n",
    "    - Monta apenas componentes que esta visivél para usuário\n",
    "    - Desenha conforme o usuário precisa\n",
    "\n",
    "\n",
    "\n",
    "..Parei após o primeiro video em 2/10 e posso ir para o video \"Criação de uma Lazycolumn simples\""
   ]
  }
 ],
 "metadata": {
  "language_info": {
   "name": "python"
  }
 },
 "nbformat": 4,
 "nbformat_minor": 2
}
