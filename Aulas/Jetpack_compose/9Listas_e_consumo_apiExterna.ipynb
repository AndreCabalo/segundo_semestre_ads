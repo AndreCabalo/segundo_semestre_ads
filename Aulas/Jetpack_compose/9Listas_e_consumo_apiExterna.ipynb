{
 "cells": [
  {
   "cell_type": "markdown",
   "metadata": {},
   "source": [
    "# Intro ás Listas\n",
    "\n",
    "- **LazyColumn** - Lista vertical\n",
    "    - Monta apenas componentes que esta visivél para usuário\n",
    "    - Desenha conforme o usuário precisa\n",
    "\n",
    "- **LazyRow** - Lista horizontal\n",
    "    - Monta apenas componentes que esta visivél para usuário\n",
    "    - Desenha conforme o usuário precisa"
   ]
  },
  {
   "cell_type": "markdown",
   "metadata": {},
   "source": [
    "## Items das Lazy's\n",
    "\n",
    "Ao criar estes componentes Lazy's, temos a opção de o parametros **items** e junto a ele a contagem de itens a inserir.\n",
    "\n",
    "- Além de passagem o numero, valor que representa a quantidade de repetição do item, podemos também passar um lista\n",
    "\n",
    "- Além do numero de iterações que pode ser definido ou carregado uma lista, atribuimos uma função a cada laço, podendo receber, text, card entre outros"
   ]
  },
  {
   "cell_type": "code",
   "execution_count": null,
   "metadata": {
    "vscode": {
     "languageId": "javascript"
    }
   },
   "outputs": [],
   "source": [
    "LazyRow(){\n",
    "    items(gamesListState){\n",
    "        StudioCard(game = it)\n",
    "    }\n",
    "}\n",
    "Spacer(modifier = Modifier.height(16.dp))\n",
    "LazyColumn(){\n",
    "    items(gamesListState){\n",
    "        GameCard(game = it)\n",
    "    }"
   ]
  },
  {
   "cell_type": "markdown",
   "metadata": {},
   "source": [
    "## Filtro\n",
    "\n",
    "Iremos inserir um campo de busca, onde apos inserir os dados e pesquisar, ele faça uma filtragem dos dados.\n",
    "\n",
    "Para isso, usamos a função listaQualquer.filter, filtro este que pode ser, inúmero:\n",
    "\n",
    "- StartsWith, começar com algum prefixo, ignoreCase ou não.\n",
    "- EndsWith, finaliza com algum sufixo, ignoreCase ou não.\n",
    "\n",
    "- Adiciona a função ao click do button"
   ]
  },
  {
   "cell_type": "code",
   "execution_count": null,
   "metadata": {
    "vscode": {
     "languageId": "javascript"
    }
   },
   "outputs": [],
   "source": [
    "//Função getallGamesByStudio do tipo studio String, que retorna um lista de games\n",
    "fun getGamesByStudio(studio: String): List<Game>{\n",
    "    return getAllGames().filter {\n",
    "//        Retorna uma lista de games cujo nome do estúdio deve começar com studio, ignorando os cases\n",
    "        it.studio.startsWith(prefix = studio, ignoreCase = true)\n",
    "    }\n",
    "}"
   ]
  },
  {
   "cell_type": "markdown",
   "metadata": {},
   "source": [
    "# Intro ao consumo de APIS e Retrofit\n",
    "\n",
    "- App conectada, para ser conectada, precisamos se conectar com algum serviço, ou seja um serviço back-end que esteja rodando a um servidor remoto, que atende requisições http\n",
    "\n",
    "- API Rest, são as APIS mais comuns, onde temos um url no formato http que faz a requisição de uma chamada, onde geralmente os serviços nos devolvem em formato JSON ou XML. Onde estes trabalham com chave:valor \n",
    "\n",
    "- Mas mesmo tendo este arquivo json com chave:valor, precisamos converter de objeto para texto e como fazemos de texto para objeto.\n",
    "\n",
    "- Para isso temos a biblioteca Retrofit, que é uma padrão de consumo de API, onde o retrofit abstrai uma serie de funcionalidade para nós"
   ]
  },
  {
   "cell_type": "markdown",
   "metadata": {},
   "source": [
    "## Configuração do ambiente para retrofit\n",
    "\n",
    "- Retrofit não faz parte do pacote, por tanto precisamos importa-la e configura-la.\n",
    "\n",
    "\n",
    "- No Gradle Scripts > build.gradle(Module:app)> na sessão de dependencias insira:\n",
    "\n",
    "    <code>implementation 'com.squareup.retrofit2:retrofit:2.9.0'</code>\n",
    "\n",
    "    <code>implementation 'com.squareup.retrofit2:rconverter-gson:2.9.0'</code>\n",
    "\n",
    "- APIS retornam normalmente arquivo texto no formato JSON, quem converte e esse JSON em objeto\n",
    "\n",
    "- Criamos um pacote chamado \"service\", para guardar a classe que faz a conexão com o servidor remoto"
   ]
  },
  {
   "cell_type": "code",
   "execution_count": null,
   "metadata": {
    "vscode": {
     "languageId": "javascript"
    }
   },
   "outputs": [],
   "source": [
    "// Ou podemos usar a implementação da seguinte maneira:\n",
    "\n",
    "//Dependencias do retrofit\n",
    "implementation (\"com.squareup.retrofit2:retrofit:2.9.0\")\n",
    "implementation (\"com.squareup.retrofit2:converter-gson:2.9.0\")\n",
    "//implementation (\"com.google.code.gson:gson:2.9.0\")"
   ]
  },
  {
   "cell_type": "markdown",
   "metadata": {},
   "source": [
    "# Padrão Json\n",
    "\n",
    "- Normalmente o retorno dos API'S são em arquivos JSON, por exemplo o **APIS VIACEP**, onde usamos através do http https://viacep.com.br/ws/xxxxxx/json/, fazemos uma requisição entre clienteWeb - Servidor. e o servidor nos retorna um arquivo JSON e não uma pagina comum.\n",
    "\n",
    "- Onde substituimos o \"xxxxxx\" por um **CEP** e nos é retornado um arquivo do tipo JSON com dados do CEP.\n",
    "\n",
    "\n",
    "Além do padrão de requisição HTTP acima: \n",
    "\n",
    " <code>https://viacep.com.br/ws/CEPQUALQUER/json/</code> \n",
    "\n",
    " <code>https://viacep.com.br/ws/09051610/json/</code> \n",
    "\n",
    "\n",
    " Podemos usar o padrão que pesquisa por Estado/Cidade/rua, da seguinte maneira:\n",
    "\n",
    " <code>https://viacep.com.br/ws/ESTADO/CIDADE/RUA/json/</code> \n",
    " \n",
    " <code>https://viacep.com.br/ws/SP/SantoAndre/Inverno/json/</code>\n",
    "\n",
    "\n",
    "Exemplo do resultado:"
   ]
  },
  {
   "cell_type": "code",
   "execution_count": null,
   "metadata": {
    "vscode": {
     "languageId": "javascript"
    }
   },
   "outputs": [],
   "source": [
    "{\n",
    "    \"cep\": \"09051-610\",\n",
    "    \"logradouro\": \"Rua Inverno\",\n",
    "    \"complemento\": \"\",\n",
    "    \"bairro\": \"Jardim Bom Pastor\",\n",
    "    \"localidade\": \"Santo André\",\n",
    "    \"uf\": \"SP\",\n",
    "    \"ibge\": \"3547809\",\n",
    "    \"gia\": \"6269\",\n",
    "    \"ddd\": \"11\",\n",
    "    \"siafi\": \"7057\"\n",
    "}"
   ]
  },
  {
   "cell_type": "markdown",
   "metadata": {},
   "source": [
    "- Para que o Android possa receber estes dados, precisamos criar um **classe Kotlin** que saiba receber estes dados e representa-la.\n",
    "\n",
    "- Lembrando que podemos criar uma classe que pegue apenas algum dos dados do Json e não todos que a API fornece!\n",
    "\n",
    "- Os atributos da classe precisam ter o nome igual da chave do JSON, caso contrario precisaremos usa o **@SerializedName**\n",
    "\n",
    "- Na construção da classe, se quisermos mudar o nome do atributo, por exemplo de \"logradouro\" para \"rua\" podemos usar o **@SerializedName(\"logradouro\")**\n"
   ]
  },
  {
   "cell_type": "code",
   "execution_count": null,
   "metadata": {
    "vscode": {
     "languageId": "javascript"
    }
   },
   "outputs": [],
   "source": [
    "package br.com.fiap.consultacep.model\n",
    "\n",
    "import com.google.gson.annotations.SerializedName\n",
    "\n",
    "\n",
    "data class Endereco(\n",
    "    val cep: String = \"\",\n",
    "    @SerializedName(\"logradouro\") val rua: String = \"\",\n",
    "    @SerializedName(\"localidade\") val cidade: String = \"\",\n",
    "    val bairro: String = \"\",\n",
    "    val uf: String = \"\",\n",
    "\n",
    ")"
   ]
  },
  {
   "cell_type": "markdown",
   "metadata": {},
   "source": [
    "## Criação da interface de requisição á API\n",
    "\n",
    "- Criamos a interface dentro do pacote \"Service\", e o arquivo será do tipo interface\n",
    "\n",
    "- Criamos neste arquivo uma função do tipo Call< Endereco >\n",
    "\n",
    "- A cima desta função adicionamos o decorator @GET (do import retrofit) e parametro do get colocamos o endpoint com a variavel\n",
    "\n",
    "- @Path, indica que a chave que se encontra na URL deverá ser substituidá pelo valro do argumanento passado na chamado do método\n",
    "\n",
    "Exemplo da interface service do tipo interface:"
   ]
  },
  {
   "cell_type": "code",
   "execution_count": null,
   "metadata": {
    "vscode": {
     "languageId": "javascript"
    }
   },
   "outputs": [],
   "source": [
    "interface CepService {\n",
    "\n",
    "\n",
    "    //    Inicio da construção dos dois métodos get\n",
    "    \n",
    "    //    Pega endereço usando cep\n",
    "        //https://viacep.com.br/ws/01001000/json/\n",
    "        @GET(\"{cep}/json/\")\n",
    "        fun getEndereco(@Path(\"cep\") cep: String): Call<Endereco>\n",
    "    \n",
    "    //    Pega o cep, usando uf, cidade,rua\n",
    "        //https://viacep.com.br/ws/RS/Porto%20Alegre/Domingos/json/\n",
    "        @GET(\"{uf}/{cidade}/{rua}/json/\")\n",
    "        fun getEnderecos(\n",
    "            @Path(\"uf\") uf: String,\n",
    "            @Path(\"cidade\") cidade: String,\n",
    "            @Path(\"rua\") rua: String\n",
    "        ): List<Call<Endereco>>\n",
    "    \n",
    "    }"
   ]
  },
  {
   "cell_type": "markdown",
   "metadata": {},
   "source": [
    "## Criação do cliente HTTP do retrofit\n",
    "\n",
    "- Retrofit fará o papel de cliente, ele que sabe fazer as requisições HTTP\n",
    "\n",
    "- Agora iremos configurar este serviço, para isso precisamos criar, dentro do pacote 'service\" um arquivo tipo class com sufixo factory\n",
    "\n",
    "- Nesta classe precisamos guardar em uma variavel a BASE HTTP\n",
    "\n",
    "- Criaremos tambem um variavel retrofitFactory que recebe um Retrofit, com :\n",
    "    - .Builder()\n",
    "    - .BaseURl(URL)\n",
    "    - .AddConverterFactory(GsonConverterFacotory.create())\n",
    "    - .build()\n",
    "\n",
    "- Criamos tambem um implementação da função, que era interface no arquivo xxxService"
   ]
  },
  {
   "cell_type": "code",
   "execution_count": null,
   "metadata": {
    "vscode": {
     "languageId": "javascript"
    }
   },
   "outputs": [],
   "source": [
    "class RetrofitFactory {\n",
    "    //    Armazena a URL BASE\n",
    "        private val URL = \"https://viacep.com.br/ws/\"\n",
    "    \n",
    "        private val retrofitFactory = Retrofit\n",
    "            .Builder()\n",
    "            .baseUrl(URL)\n",
    "            .addConverterFactory(GsonConverterFactory.create())\n",
    "            .build()\n",
    "    \n",
    "        fun getCepService(): CepService {\n",
    "            return retrofitFactory.create(CepService::class.java)\n",
    "        }\n",
    "    }"
   ]
  },
  {
   "cell_type": "markdown",
   "metadata": {},
   "source": [
    "## Executando chamadas para a API\n",
    "\n",
    "CallBack do retrofit2\n",
    "\n",
    "**OnFailure** é quando não conseguimos se comunicar com o servidor\n",
    "\n",
    "**OnResponse**, quando tivemos a resposta de algum problema\n",
    "\n",
    "//Retrofit, havia dado problema, pois em ServiceCep.kt, eu havia colocado o tipo de retorno da função getEnderecos como:\n",
    "\n",
    " <code>< List < Call< Endereco >>> </code>\n",
    "\n",
    " E deveria ser\n",
    "\n",
    " <code>< Call < List< Endereco >>> </code>\n",
    "\n"
   ]
  },
  {
   "cell_type": "code",
   "execution_count": null,
   "metadata": {
    "vscode": {
     "languageId": "javascript"
    }
   },
   "outputs": [],
   "source": [
    "fun getEnderecos(\n",
    "    @Path(\"uf\") uf: String,\n",
    "    @Path(\"cidade\") cidade: String,\n",
    "    @Path(\"rua\") rua: String\n",
    "): Call<List<Endereco>>"
   ]
  },
  {
   "cell_type": "markdown",
   "metadata": {},
   "source": [
    "## Permitindo conexão com a internet\n",
    "\n",
    "Por padrão o android proibe os apps de conectarem-se a internet, para solucionar isso precisamos fazer algumas alterações:\n",
    "\n",
    "- Vamos na pasta> app> manifests> e adicionaremos antes da sessão \"Application\" o código:\n",
    "\n",
    "    <code> \n",
    "    < uses-permission android:name=\"android.permission INTERNET\" />\n",
    "\n",
    "    </code>\n",
    "\n"
   ]
  }
 ],
 "metadata": {
  "language_info": {
   "name": "python"
  }
 },
 "nbformat": 4,
 "nbformat_minor": 2
}
