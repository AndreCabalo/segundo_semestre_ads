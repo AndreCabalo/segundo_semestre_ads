{
 "cells": [
  {
   "cell_type": "markdown",
   "metadata": {},
   "source": [
    "# Introdução ao Kotlin\n",
    "\n",
    "## Trilha Android\n",
    "\n",
    "- Inicio do desenvolvimento em 2011 pela JetBrains\n",
    "\n",
    "- Nova linguagem do Android desde 2017\n",
    "\n",
    "- Linguagem Open Sourcer - Apache 2\n",
    "\n",
    "- Caracteristica:\n",
    "\n",
    "    - Capacidade de tipar a variavel, sem definir na criação - Tipagem Dinamica/Inferencia \n",
    "\n",
    "    - Segurança do Nulos, dificilmente caira no NullPointerException\n",
    " \n",
    "    - Temos tipagem Nula\n",
    "\n",
    "    - Compatível com Java, podendo usar classes que tinhamos em Java, bem como bibliotecas Java\n",
    "\n",
    "    - Otima curva de aprendizagem, linguagem fácil de se aprender e trabalhar\n",
    "\n",
    "    \n"
   ]
  }
 ],
 "metadata": {
  "language_info": {
   "name": "python"
  }
 },
 "nbformat": 4,
 "nbformat_minor": 2
}
